{
  "nbformat": 4,
  "nbformat_minor": 0,
  "metadata": {
    "colab": {
      "provenance": [],
      "include_colab_link": true
    },
    "kernelspec": {
      "name": "python3",
      "display_name": "Python 3"
    },
    "language_info": {
      "name": "python"
    },
    "accelerator": "TPU"
  },
  "cells": [
    {
      "cell_type": "markdown",
      "metadata": {
        "id": "view-in-github",
        "colab_type": "text"
      },
      "source": [
        "<a href=\"https://colab.research.google.com/github/AryaWicaksanaH/Machine-Learning-Quiz-2/blob/main/Quiz2_Arya-Wicaksana-Hidayat.ipynb\" target=\"_parent\"><img src=\"https://colab.research.google.com/assets/colab-badge.svg\" alt=\"Open In Colab\"/></a>"
      ]
    },
    {
      "cell_type": "markdown",
      "source": [
        "# Import Library"
      ],
      "metadata": {
        "id": "fLV1Z5_Za3Ni"
      }
    },
    {
      "cell_type": "code",
      "execution_count": 2,
      "metadata": {
        "id": "TUhYpAeEarrV"
      },
      "outputs": [],
      "source": [
        "import tensorflow as tf # membangun dan melatih AI Model\n",
        "import numpy as np # library komputasi matematika dan pengelolaan array multidimensional\n",
        "import pandas as pd # import file csv atau excel, manipulasi dan pengelolaan data dengan struktur DataFrame\n",
        "import matplotlib.pyplot as plt # memvisualisasikan data\n",
        "import seaborn as sns # kustomisasi plot dalam pyplot\n",
        "from sklearn.preprocessing import LabelBinarizer # melakukan one-hot encoding terhadap data label kategorikal\n",
        "from sklearn.model_selection import train_test_split # membagi dataset menjadi data training dan data test\n",
        "from sklearn.metrics import classification_report # mengevaluasi kinerja model klasifikasi multikelas\n",
        "import zipfile # membantu ekstrak file zip"
      ]
    },
    {
      "cell_type": "markdown",
      "source": [
        "# Load Dataset"
      ],
      "metadata": {
        "id": "N95oXMaTcnMH"
      }
    },
    {
      "cell_type": "markdown",
      "source": [
        "## Load MNIST"
      ],
      "metadata": {
        "id": "dT8TY908cpCK"
      }
    },
    {
      "cell_type": "code",
      "source": [
        "from keras.datasets import mnist # import dataset mnist"
      ],
      "metadata": {
        "id": "OIZx2pkUcfDe"
      },
      "execution_count": 3,
      "outputs": []
    },
    {
      "cell_type": "code",
      "source": [
        "(train_data, train_labels), (test_data, test_labels) = mnist.load_data() # Memuat dataset mnist dan menyimpannya dalam keempat variabel tersebut"
      ],
      "metadata": {
        "id": "3GLkzBi6czj4",
        "outputId": "a03223bf-8bec-4fa8-b658-4d78dea46c1b",
        "colab": {
          "base_uri": "https://localhost:8080/"
        }
      },
      "execution_count": 4,
      "outputs": [
        {
          "output_type": "stream",
          "name": "stdout",
          "text": [
            "Downloading data from https://storage.googleapis.com/tensorflow/tf-keras-datasets/mnist.npz\n",
            "11490434/11490434 [==============================] - 0s 0us/step\n"
          ]
        }
      ]
    },
    {
      "cell_type": "code",
      "source": [
        "# Check shape data\n",
        "(train_data.shape, test_data.shape) # Menampilkan ukuran dan dimensi data"
      ],
      "metadata": {
        "id": "oVQTyPgAc5Zw",
        "outputId": "d5b3071e-95aa-49a5-aa16-7d17ad9307cf",
        "colab": {
          "base_uri": "https://localhost:8080/"
        }
      },
      "execution_count": 5,
      "outputs": [
        {
          "output_type": "execute_result",
          "data": {
            "text/plain": [
              "((60000, 28, 28), (10000, 28, 28))"
            ]
          },
          "metadata": {},
          "execution_count": 5
        }
      ]
    },
    {
      "cell_type": "code",
      "source": [
        "# Check shape labels\n",
        "(train_labels.shape, test_labels.shape) # Menampilkan ukuran dan dimensi label"
      ],
      "metadata": {
        "id": "grUhLPwJc-un",
        "outputId": "b21cea8e-c9f6-49ba-d11a-98f52f91b524",
        "colab": {
          "base_uri": "https://localhost:8080/"
        }
      },
      "execution_count": 6,
      "outputs": [
        {
          "output_type": "execute_result",
          "data": {
            "text/plain": [
              "((60000,), (10000,))"
            ]
          },
          "metadata": {},
          "execution_count": 6
        }
      ]
    },
    {
      "cell_type": "code",
      "source": [
        "# Check each data shape --> should be 28*28\n",
        "train_data[0].shape # Menampilkan ukuran data pertama dari train_data"
      ],
      "metadata": {
        "id": "AwsTEu6xdNKX",
        "outputId": "cbcad01b-61ca-482b-faaf-0c3ca1f58a9e",
        "colab": {
          "base_uri": "https://localhost:8080/"
        }
      },
      "execution_count": 7,
      "outputs": [
        {
          "output_type": "execute_result",
          "data": {
            "text/plain": [
              "(28, 28)"
            ]
          },
          "metadata": {},
          "execution_count": 7
        }
      ]
    },
    {
      "cell_type": "code",
      "source": [
        "# Check the label\n",
        "train_labels.shape # Menampilkan ukuran data pertama dari train_labels"
      ],
      "metadata": {
        "id": "KHZesdnBdXKX",
        "outputId": "2ac71520-53d8-47a8-ec36-ddf8e98bb57c",
        "colab": {
          "base_uri": "https://localhost:8080/"
        }
      },
      "execution_count": 8,
      "outputs": [
        {
          "output_type": "execute_result",
          "data": {
            "text/plain": [
              "(60000,)"
            ]
          },
          "metadata": {},
          "execution_count": 8
        }
      ]
    },
    {
      "cell_type": "markdown",
      "source": [
        "### Combine Train and Test Data"
      ],
      "metadata": {
        "id": "SYz8IjnOdfsV"
      }
    },
    {
      "cell_type": "code",
      "source": [
        "digits_data = np.vstack([train_data, test_data]) # Menggabungkan data train_data dan test_data dalam array secara vertikal\n",
        "digits_labels = np.hstack([train_labels, test_labels]) # Menggabungkan data train_label dan test_label dalam array secara horizontal"
      ],
      "metadata": {
        "id": "yacSZjdPdbhs"
      },
      "execution_count": 9,
      "outputs": []
    },
    {
      "cell_type": "code",
      "source": [
        "# Check data shape\n",
        "digits_data.shape # Menampilkan ukuran dan dimensi digits_data"
      ],
      "metadata": {
        "id": "oRBvQNVUeHZn",
        "outputId": "33a6a412-7261-49c5-d1fd-0be2e418bd2b",
        "colab": {
          "base_uri": "https://localhost:8080/"
        }
      },
      "execution_count": 10,
      "outputs": [
        {
          "output_type": "execute_result",
          "data": {
            "text/plain": [
              "(70000, 28, 28)"
            ]
          },
          "metadata": {},
          "execution_count": 10
        }
      ]
    },
    {
      "cell_type": "code",
      "source": [
        "# Check label shape\n",
        "digits_labels.shape # Menampilkan ukuran dan dimensi digits_labels"
      ],
      "metadata": {
        "id": "MZbUcu0MeLSG",
        "outputId": "eb976f30-5815-4d21-cb7e-91da590e31f4",
        "colab": {
          "base_uri": "https://localhost:8080/"
        }
      },
      "execution_count": 11,
      "outputs": [
        {
          "output_type": "execute_result",
          "data": {
            "text/plain": [
              "(70000,)"
            ]
          },
          "metadata": {},
          "execution_count": 11
        }
      ]
    },
    {
      "cell_type": "code",
      "source": [
        "# Randomly checking the data\n",
        "idx = np.random.randint(0, digits_data.shape[0]) # Menentukan angka indeks acak berdasarkan panjang digits_data\n",
        "plt.imshow(digits_data[idx], cmap='gray') # Menampilkan data dengan citra abu abu\n",
        "plt.title('Class: ' + str(digits_labels[idx])) # Menambahkan judul pada plot"
      ],
      "metadata": {
        "id": "uqaiC0pGePF-",
        "outputId": "6a79d71e-85ea-4ca5-9ee4-03c3ba580ab8",
        "colab": {
          "base_uri": "https://localhost:8080/",
          "height": 469
        }
      },
      "execution_count": 12,
      "outputs": [
        {
          "output_type": "execute_result",
          "data": {
            "text/plain": [
              "Text(0.5, 1.0, 'Class: 9')"
            ]
          },
          "metadata": {},
          "execution_count": 12
        },
        {
          "output_type": "display_data",
          "data": {
            "text/plain": [
              "<Figure size 640x480 with 1 Axes>"
            ],
            "image/png": "[encoded data removed]"
          },
          "metadata": {}
        }
      ]
    },
    {
      "cell_type": "code",
      "source": [
        "# Check data distribution\n",
        "df_labels = pd.DataFrame(digits_labels, columns=['Labels']) # Mengubah digits_labels menjadi 1 kolom DataFrame dengan nama Labels\n",
        "sns.countplot(df_labels, x='Labels') # Menampilkan visualisasi data dengan x berupa labels dan y total atau count setiap label nya\n"
      ],
      "metadata": {
        "id": "FrLWteorevqd",
        "outputId": "50a2670b-c512-4c8e-af9b-d06e325e5f61",
        "colab": {
          "base_uri": "https://localhost:8080/",
          "height": 466
        }
      },
      "execution_count": 13,
      "outputs": [
        {
          "output_type": "execute_result",
          "data": {
            "text/plain": [
              "<Axes: xlabel='Labels', ylabel='count'>"
            ]
          },
          "metadata": {},
          "execution_count": 13
        },
        {
          "output_type": "display_data",
          "data": {
            "text/plain": [
              "<Figure size 640x480 with 1 Axes>"
            ],
            "image/png": "[encoded data removed]"
          },
          "metadata": {}
        }
      ]
    },
    {
      "cell_type": "markdown",
      "source": [
        "## Load Kaggle A-Z"
      ],
      "metadata": {
        "id": "uqeJT2ytogB_"
      }
    },
    {
      "cell_type": "code",
      "source": [
        "!wget https://iaexpert.academy/arquivos/alfabeto_A-Z.zip # Download file"
      ],
      "metadata": {
        "id": "tQ95CkdfjO7P",
        "outputId": "2184fdae-9330-4587-80d3-4dc261ba8843",
        "colab": {
          "base_uri": "https://localhost:8080/"
        }
      },
      "execution_count": 14,
      "outputs": [
        {
          "output_type": "stream",
          "name": "stdout",
          "text": [
            "--2023-12-05 01:54:56--  https://iaexpert.academy/arquivos/alfabeto_A-Z.zip\n",
            "Resolving iaexpert.academy (iaexpert.academy)... 162.159.134.42\n",
            "Connecting to iaexpert.academy (iaexpert.academy)|162.159.134.42|:443... connected.\n",
            "HTTP request sent, awaiting response... 200 OK\n",
            "Length: 193643888 (185M) [application/zip]\n",
            "Saving to: ‘alfabeto_A-Z.zip’\n",
            "\n",
            "alfabeto_A-Z.zip    100%[===================>] 184.67M  77.3MB/s    in 2.4s    \n",
            "\n",
            "2023-12-05 01:54:58 (77.3 MB/s) - ‘alfabeto_A-Z.zip’ saved [193643888/193643888]\n",
            "\n"
          ]
        }
      ]
    },
    {
      "cell_type": "code",
      "source": [
        "# Extract zip file\n",
        "zip_object = zipfile.ZipFile(file = 'alfabeto_A-Z.zip', mode = 'r') # Membuka file zip dengan mode read\n",
        "zip_object.extractall('./') # Mengekstrak file di lokasi root\n",
        "zip_object.close() # Menutup dan menyelesaikan objek zip_object"
      ],
      "metadata": {
        "id": "TobpFNSsojcv"
      },
      "execution_count": 15,
      "outputs": []
    },
    {
      "cell_type": "code",
      "source": [
        "dataset_az = pd.read_csv('A_Z Handwritten Data.csv').astype('float32') # Import file csv sebagai DataFrame dataset_az\n",
        "dataset_az # Menampilkan DataFrame dataset_az"
      ],
      "metadata": {
        "id": "ScBURU_4o5bB",
        "outputId": "55b9d7c7-9377-459a-f67d-de89cbda7f04",
        "colab": {
          "base_uri": "https://localhost:8080/",
          "height": 444
        }
      },
      "execution_count": 16,
      "outputs": [
        {
          "output_type": "execute_result",
          "data": {
            "text/plain": [
              "           0  0.1  0.2  0.3  0.4  0.5  0.6  0.7  0.8  0.9  ...  0.639  0.640  \\\n",
              "0        0.0  0.0  0.0  0.0  0.0  0.0  0.0  0.0  0.0  0.0  ...    0.0    0.0   \n",
              "1        0.0  0.0  0.0  0.0  0.0  0.0  0.0  0.0  0.0  0.0  ...    0.0    0.0   \n",
              "2        0.0  0.0  0.0  0.0  0.0  0.0  0.0  0.0  0.0  0.0  ...    0.0    0.0   \n",
              "3        0.0  0.0  0.0  0.0  0.0  0.0  0.0  0.0  0.0  0.0  ...    0.0    0.0   \n",
              "4        0.0  0.0  0.0  0.0  0.0  0.0  0.0  0.0  0.0  0.0  ...    0.0    0.0   \n",
              "...      ...  ...  ...  ...  ...  ...  ...  ...  ...  ...  ...    ...    ...   \n",
              "372445  25.0  0.0  0.0  0.0  0.0  0.0  0.0  0.0  0.0  0.0  ...    0.0    0.0   \n",
              "372446  25.0  0.0  0.0  0.0  0.0  0.0  0.0  0.0  0.0  0.0  ...    0.0    0.0   \n",
              "372447  25.0  0.0  0.0  0.0  0.0  0.0  0.0  0.0  0.0  0.0  ...    0.0    0.0   \n",
              "372448  25.0  0.0  0.0  0.0  0.0  0.0  0.0  0.0  0.0  0.0  ...    0.0    0.0   \n",
              "372449  25.0  0.0  0.0  0.0  0.0  0.0  0.0  0.0  0.0  0.0  ...    0.0    0.0   \n",
              "\n",
              "        0.641  0.642  0.643  0.644  0.645  0.646  0.647  0.648  \n",
              "0         0.0    0.0    0.0    0.0    0.0    0.0    0.0    0.0  \n",
              "1         0.0    0.0    0.0    0.0    0.0    0.0    0.0    0.0  \n",
              "2         0.0    0.0    0.0    0.0    0.0    0.0    0.0    0.0  \n",
              "3         0.0    0.0    0.0    0.0    0.0    0.0    0.0    0.0  \n",
              "4         0.0    0.0    0.0    0.0    0.0    0.0    0.0    0.0  \n",
              "...       ...    ...    ...    ...    ...    ...    ...    ...  \n",
              "372445    0.0    0.0    0.0    0.0    0.0    0.0    0.0    0.0  \n",
              "372446    0.0    0.0    0.0    0.0    0.0    0.0    0.0    0.0  \n",
              "372447    0.0    0.0    0.0    0.0    0.0    0.0    0.0    0.0  \n",
              "372448    0.0    0.0    0.0    0.0    0.0    0.0    0.0    0.0  \n",
              "372449    0.0    0.0    0.0    0.0    0.0    0.0    0.0    0.0  \n",
              "\n",
              "[372450 rows x 785 columns]"
            ],
            "text/html": [
              "\n",
              "  <div id=\"df-23aa6105-dd45-42f6-bedd-bd7e38497a16\" class=\"colab-df-container\">\n",
              "    <div>\n",
              "<style scoped>\n",
              "    .dataframe tbody tr th:only-of-type {\n",
              "        vertical-align: middle;\n",
              "    }\n",
              "\n",
              "    .dataframe tbody tr th {\n",
              "        vertical-align: top;\n",
              "    }\n",
              "\n",
              "    .dataframe thead th {\n",
              "        text-align: right;\n",
              "    }\n",
              "</style>\n",
              "<table border=\"1\" class=\"dataframe\">\n",
              "  <thead>\n",
              "    <tr style=\"text-align: right;\">\n",
              "      <th></th>\n",
              "      <th>0</th>\n",
              "      <th>0.1</th>\n",
              "      <th>0.2</th>\n",
              "      <th>0.3</th>\n",
              "      <th>0.4</th>\n",
              "      <th>0.5</th>\n",
              "      <th>0.6</th>\n",
              "      <th>0.7</th>\n",
              "      <th>0.8</th>\n",
              "      <th>0.9</th>\n",
              "      <th>...</th>\n",
              "      <th>0.639</th>\n",
              "      <th>0.640</th>\n",
              "      <th>0.641</th>\n",
              "      <th>0.642</th>\n",
              "      <th>0.643</th>\n",
              "      <th>0.644</th>\n",
              "      <th>0.645</th>\n",
              "      <th>0.646</th>\n",
              "      <th>0.647</th>\n",
              "      <th>0.648</th>\n",
              "    </tr>\n",
              "  </thead>\n",
              "  <tbody>\n",
              "    <tr>\n",
              "      <th>0</th>\n",
              "      <td>0.0</td>\n",
              "      <td>0.0</td>\n",
              "      <td>0.0</td>\n",
              "      <td>0.0</td>\n",
              "      <td>0.0</td>\n",
              "      <td>0.0</td>\n",
              "      <td>0.0</td>\n",
              "      <td>0.0</td>\n",
              "      <td>0.0</td>\n",
              "      <td>0.0</td>\n",
              "      <td>...</td>\n",
              "      <td>0.0</td>\n",
              "      <td>0.0</td>\n",
              "      <td>0.0</td>\n",
              "      <td>0.0</td>\n",
              "      <td>0.0</td>\n",
              "      <td>0.0</td>\n",
              "      <td>0.0</td>\n",
              "      <td>0.0</td>\n",
              "      <td>0.0</td>\n",
              "      <td>0.0</td>\n",
              "    </tr>\n",
              "    <tr>\n",
              "      <th>1</th>\n",
              "      <td>0.0</td>\n",
              "      <td>0.0</td>\n",
              "      <td>0.0</td>\n",
              "      <td>0.0</td>\n",
              "      <td>0.0</td>\n",
              "      <td>0.0</td>\n",
              "      <td>0.0</td>\n",
              "      <td>0.0</td>\n",
              "      <td>0.0</td>\n",
              "      <td>0.0</td>\n",
              "      <td>...</td>\n",
              "      <td>0.0</td>\n",
              "      <td>0.0</td>\n",
              "      <td>0.0</td>\n",
              "      <td>0.0</td>\n",
              "      <td>0.0</td>\n",
              "      <td>0.0</td>\n",
              "      <td>0.0</td>\n",
              "      <td>0.0</td>\n",
              "      <td>0.0</td>\n",
              "      <td>0.0</td>\n",
              "    </tr>\n",
              "    <tr>\n",
              "      <th>2</th>\n",
              "      <td>0.0</td>\n",
              "      <td>0.0</td>\n",
              "      <td>0.0</td>\n",
              "      <td>0.0</td>\n",
              "      <td>0.0</td>\n",
              "      <td>0.0</td>\n",
              "      <td>0.0</td>\n",
              "      <td>0.0</td>\n",
              "      <td>0.0</td>\n",
              "      <td>0.0</td>\n",
              "      <td>...</td>\n",
              "      <td>0.0</td>\n",
              "      <td>0.0</td>\n",
              "      <td>0.0</td>\n",
              "      <td>0.0</td>\n",
              "      <td>0.0</td>\n",
              "      <td>0.0</td>\n",
              "      <td>0.0</td>\n",
              "      <td>0.0</td>\n",
              "      <td>0.0</td>\n",
              "      <td>0.0</td>\n",
              "    </tr>\n",
              "    <tr>\n",
              "      <th>3</th>\n",
              "      <td>0.0</td>\n",
              "      <td>0.0</td>\n",
              "      <td>0.0</td>\n",
              "      <td>0.0</td>\n",
              "      <td>0.0</td>\n",
              "      <td>0.0</td>\n",
              "      <td>0.0</td>\n",
              "      <td>0.0</td>\n",
              "      <td>0.0</td>\n",
              "      <td>0.0</td>\n",
              "      <td>...</td>\n",
              "      <td>0.0</td>\n",
              "      <td>0.0</td>\n",
              "      <td>0.0</td>\n",
              "      <td>0.0</td>\n",
              "      <td>0.0</td>\n",
              "      <td>0.0</td>\n",
              "      <td>0.0</td>\n",
              "      <td>0.0</td>\n",
              "      <td>0.0</td>\n",
              "      <td>0.0</td>\n",
              "    </tr>\n",
              "    <tr>\n",
              "      <th>4</th>\n",
              "      <td>0.0</td>\n",
              "      <td>0.0</td>\n",
              "      <td>0.0</td>\n",
              "      <td>0.0</td>\n",
              "      <td>0.0</td>\n",
              "      <td>0.0</td>\n",
              "      <td>0.0</td>\n",
              "      <td>0.0</td>\n",
              "      <td>0.0</td>\n",
              "      <td>0.0</td>\n",
              "      <td>...</td>\n",
              "      <td>0.0</td>\n",
              "      <td>0.0</td>\n",
              "      <td>0.0</td>\n",
              "      <td>0.0</td>\n",
              "      <td>0.0</td>\n",
              "      <td>0.0</td>\n",
              "      <td>0.0</td>\n",
              "      <td>0.0</td>\n",
              "      <td>0.0</td>\n",
              "      <td>0.0</td>\n",
              "    </tr>\n",
              "    <tr>\n",
              "      <th>...</th>\n",
              "      <td>...</td>\n",
              "      <td>...</td>\n",
              "      <td>...</td>\n",
              "      <td>...</td>\n",
              "      <td>...</td>\n",
              "      <td>...</td>\n",
              "      <td>...</td>\n",
              "      <td>...</td>\n",
              "      <td>...</td>\n",
              "      <td>...</td>\n",
              "      <td>...</td>\n",
              "      <td>...</td>\n",
              "      <td>...</td>\n",
              "      <td>...</td>\n",
              "      <td>...</td>\n",
              "      <td>...</td>\n",
              "      <td>...</td>\n",
              "      <td>...</td>\n",
              "      <td>...</td>\n",
              "      <td>...</td>\n",
              "      <td>...</td>\n",
              "    </tr>\n",
              "    <tr>\n",
              "      <th>372445</th>\n",
              "      <td>25.0</td>\n",
              "      <td>0.0</td>\n",
              "      <td>0.0</td>\n",
              "      <td>0.0</td>\n",
              "      <td>0.0</td>\n",
              "      <td>0.0</td>\n",
              "      <td>0.0</td>\n",
              "      <td>0.0</td>\n",
              "      <td>0.0</td>\n",
              "      <td>0.0</td>\n",
              "      <td>...</td>\n",
              "      <td>0.0</td>\n",
              "      <td>0.0</td>\n",
              "      <td>0.0</td>\n",
              "      <td>0.0</td>\n",
              "      <td>0.0</td>\n",
              "      <td>0.0</td>\n",
              "      <td>0.0</td>\n",
              "      <td>0.0</td>\n",
              "      <td>0.0</td>\n",
              "      <td>0.0</td>\n",
              "    </tr>\n",
              "    <tr>\n",
              "      <th>372446</th>\n",
              "      <td>25.0</td>\n",
              "      <td>0.0</td>\n",
              "      <td>0.0</td>\n",
              "      <td>0.0</td>\n",
              "      <td>0.0</td>\n",
              "      <td>0.0</td>\n",
              "      <td>0.0</td>\n",
              "      <td>0.0</td>\n",
              "      <td>0.0</td>\n",
              "      <td>0.0</td>\n",
              "      <td>...</td>\n",
              "      <td>0.0</td>\n",
              "      <td>0.0</td>\n",
              "      <td>0.0</td>\n",
              "      <td>0.0</td>\n",
              "      <td>0.0</td>\n",
              "      <td>0.0</td>\n",
              "      <td>0.0</td>\n",
              "      <td>0.0</td>\n",
              "      <td>0.0</td>\n",
              "      <td>0.0</td>\n",
              "    </tr>\n",
              "    <tr>\n",
              "      <th>372447</th>\n",
              "      <td>25.0</td>\n",
              "      <td>0.0</td>\n",
              "      <td>0.0</td>\n",
              "      <td>0.0</td>\n",
              "      <td>0.0</td>\n",
              "      <td>0.0</td>\n",
              "      <td>0.0</td>\n",
              "      <td>0.0</td>\n",
              "      <td>0.0</td>\n",
              "      <td>0.0</td>\n",
              "      <td>...</td>\n",
              "      <td>0.0</td>\n",
              "      <td>0.0</td>\n",
              "      <td>0.0</td>\n",
              "      <td>0.0</td>\n",
              "      <td>0.0</td>\n",
              "      <td>0.0</td>\n",
              "      <td>0.0</td>\n",
              "      <td>0.0</td>\n",
              "      <td>0.0</td>\n",
              "      <td>0.0</td>\n",
              "    </tr>\n",
              "    <tr>\n",
              "      <th>372448</th>\n",
              "      <td>25.0</td>\n",
              "      <td>0.0</td>\n",
              "      <td>0.0</td>\n",
              "      <td>0.0</td>\n",
              "      <td>0.0</td>\n",
              "      <td>0.0</td>\n",
              "      <td>0.0</td>\n",
              "      <td>0.0</td>\n",
              "      <td>0.0</td>\n",
              "      <td>0.0</td>\n",
              "      <td>...</td>\n",
              "      <td>0.0</td>\n",
              "      <td>0.0</td>\n",
              "      <td>0.0</td>\n",
              "      <td>0.0</td>\n",
              "      <td>0.0</td>\n",
              "      <td>0.0</td>\n",
              "      <td>0.0</td>\n",
              "      <td>0.0</td>\n",
              "      <td>0.0</td>\n",
              "      <td>0.0</td>\n",
              "    </tr>\n",
              "    <tr>\n",
              "      <th>372449</th>\n",
              "      <td>25.0</td>\n",
              "      <td>0.0</td>\n",
              "      <td>0.0</td>\n",
              "      <td>0.0</td>\n",
              "      <td>0.0</td>\n",
              "      <td>0.0</td>\n",
              "      <td>0.0</td>\n",
              "      <td>0.0</td>\n",
              "      <td>0.0</td>\n",
              "      <td>0.0</td>\n",
              "      <td>...</td>\n",
              "      <td>0.0</td>\n",
              "      <td>0.0</td>\n",
              "      <td>0.0</td>\n",
              "      <td>0.0</td>\n",
              "      <td>0.0</td>\n",
              "      <td>0.0</td>\n",
              "      <td>0.0</td>\n",
              "      <td>0.0</td>\n",
              "      <td>0.0</td>\n",
              "      <td>0.0</td>\n",
              "    </tr>\n",
              "  </tbody>\n",
              "</table>\n",
              "<p>372450 rows × 785 columns</p>\n",
              "</div>\n",
              "    <div class=\"colab-df-buttons\">\n",
              "\n",
              "  <div class=\"colab-df-container\">\n",
              "    <button class=\"colab-df-convert\" onclick=\"convertToInteractive('df-23aa6105-dd45-42f6-bedd-bd7e38497a16')\"\n",
              "            title=\"Convert this dataframe to an interactive table.\"\n",
              "            style=\"display:none;\">\n",
              "\n",
              "  <svg xmlns=\"http://www.w3.org/2000/svg\" height=\"24px\" viewBox=\"0 -960 960 960\">\n",
              "    <path d=\"M120-120v-720h720v720H120Zm60-500h600v-160H180v160Zm220 220h160v-160H400v160Zm0 220h160v-160H400v160ZM180-400h160v-160H180v160Zm440 0h160v-160H620v160ZM180-180h160v-160H180v160Zm440 0h160v-160H620v160Z\"/>\n",
              "  </svg>\n",
              "    </button>\n",
              "\n",
              "  <style>\n",
              "    .colab-df-container {\n",
              "      display:flex;\n",
              "      gap: 12px;\n",
              "    }\n",
              "\n",
              "    .colab-df-convert {\n",
              "      background-color: #E8F0FE;\n",
              "      border: none;\n",
              "      border-radius: 50%;\n",
              "      cursor: pointer;\n",
              "      display: none;\n",
              "      fill: #1967D2;\n",
              "      height: 32px;\n",
              "      padding: 0 0 0 0;\n",
              "      width: 32px;\n",
              "    }\n",
              "\n",
              "    .colab-df-convert:hover {\n",
              "      background-color: #E2EBFA;\n",
              "      box-shadow: 0px 1px 2px rgba(60, 64, 67, 0.3), 0px 1px 3px 1px rgba(60, 64, 67, 0.15);\n",
              "      fill: #174EA6;\n",
              "    }\n",
              "\n",
              "    .colab-df-buttons div {\n",
              "      margin-bottom: 4px;\n",
              "    }\n",
              "\n",
              "    [theme=dark] .colab-df-convert {\n",
              "      background-color: #3B4455;\n",
              "      fill: #D2E3FC;\n",
              "    }\n",
              "\n",
              "    [theme=dark] .colab-df-convert:hover {\n",
              "      background-color: #434B5C;\n",
              "      box-shadow: 0px 1px 3px 1px rgba(0, 0, 0, 0.15);\n",
              "      filter: drop-shadow(0px 1px 2px rgba(0, 0, 0, 0.3));\n",
              "      fill: #FFFFFF;\n",
              "    }\n",
              "  </style>\n",
              "\n",
              "    <script>\n",
              "      const buttonEl =\n",
              "        document.querySelector('#df-23aa6105-dd45-42f6-bedd-bd7e38497a16 button.colab-df-convert');\n",
              "      buttonEl.style.display =\n",
              "        google.colab.kernel.accessAllowed ? 'block' : 'none';\n",
              "\n",
              "      async function convertToInteractive(key) {\n",
              "        const element = document.querySelector('#df-23aa6105-dd45-42f6-bedd-bd7e38497a16');\n",
              "        const dataTable =\n",
              "          await google.colab.kernel.invokeFunction('convertToInteractive',\n",
              "                                                    [key], {});\n",
              "        if (!dataTable) return;\n",
              "\n",
              "        const docLinkHtml = 'Like what you see? Visit the ' +\n",
              "          '<a target=\"_blank\" href=https://colab.research.google.com/notebooks/data_table.ipynb>data table notebook</a>'\n",
              "          + ' to learn more about interactive tables.';\n",
              "        element.innerHTML = '';\n",
              "        dataTable['output_type'] = 'display_data';\n",
              "        await google.colab.output.renderOutput(dataTable, element);\n",
              "        const docLink = document.createElement('div');\n",
              "        docLink.innerHTML = docLinkHtml;\n",
              "        element.appendChild(docLink);\n",
              "      }\n",
              "    </script>\n",
              "  </div>\n",
              "\n",
              "\n",
              "<div id=\"df-c5f0a45c-bf56-4944-bba0-a4840ac45082\">\n",
              "  <button class=\"colab-df-quickchart\" onclick=\"quickchart('df-c5f0a45c-bf56-4944-bba0-a4840ac45082')\"\n",
              "            title=\"Suggest charts\"\n",
              "            style=\"display:none;\">\n",
              "\n",
              "<svg xmlns=\"http://www.w3.org/2000/svg\" height=\"24px\"viewBox=\"0 0 24 24\"\n",
              "     width=\"24px\">\n",
              "    <g>\n",
              "        <path d=\"M19 3H5c-1.1 0-2 .9-2 2v14c0 1.1.9 2 2 2h14c1.1 0 2-.9 2-2V5c0-1.1-.9-2-2-2zM9 17H7v-7h2v7zm4 0h-2V7h2v10zm4 0h-2v-4h2v4z\"/>\n",
              "    </g>\n",
              "</svg>\n",
              "  </button>\n",
              "\n",
              "<style>\n",
              "  .colab-df-quickchart {\n",
              "      --bg-color: #E8F0FE;\n",
              "      --fill-color: #1967D2;\n",
              "      --hover-bg-color: #E2EBFA;\n",
              "      --hover-fill-color: #174EA6;\n",
              "      --disabled-fill-color: #AAA;\n",
              "      --disabled-bg-color: #DDD;\n",
              "  }\n",
              "\n",
              "  [theme=dark] .colab-df-quickchart {\n",
              "      --bg-color: #3B4455;\n",
              "      --fill-color: #D2E3FC;\n",
              "      --hover-bg-color: #434B5C;\n",
              "      --hover-fill-color: #FFFFFF;\n",
              "      --disabled-bg-color: #3B4455;\n",
              "      --disabled-fill-color: #666;\n",
              "  }\n",
              "\n",
              "  .colab-df-quickchart {\n",
              "    background-color: var(--bg-color);\n",
              "    border: none;\n",
              "    border-radius: 50%;\n",
              "    cursor: pointer;\n",
              "    display: none;\n",
              "    fill: var(--fill-color);\n",
              "    height: 32px;\n",
              "    padding: 0;\n",
              "    width: 32px;\n",
              "  }\n",
              "\n",
              "  .colab-df-quickchart:hover {\n",
              "    background-color: var(--hover-bg-color);\n",
              "    box-shadow: 0 1px 2px rgba(60, 64, 67, 0.3), 0 1px 3px 1px rgba(60, 64, 67, 0.15);\n",
              "    fill: var(--button-hover-fill-color);\n",
              "  }\n",
              "\n",
              "  .colab-df-quickchart-complete:disabled,\n",
              "  .colab-df-quickchart-complete:disabled:hover {\n",
              "    background-color: var(--disabled-bg-color);\n",
              "    fill: var(--disabled-fill-color);\n",
              "    box-shadow: none;\n",
              "  }\n",
              "\n",
              "  .colab-df-spinner {\n",
              "    border: 2px solid var(--fill-color);\n",
              "    border-color: transparent;\n",
              "    border-bottom-color: var(--fill-color);\n",
              "    animation:\n",
              "      spin 1s steps(1) infinite;\n",
              "  }\n",
              "\n",
              "  @keyframes spin {\n",
              "    0% {\n",
              "      border-color: transparent;\n",
              "      border-bottom-color: var(--fill-color);\n",
              "      border-left-color: var(--fill-color);\n",
              "    }\n",
              "    20% {\n",
              "      border-color: transparent;\n",
              "      border-left-color: var(--fill-color);\n",
              "      border-top-color: var(--fill-color);\n",
              "    }\n",
              "    30% {\n",
              "      border-color: transparent;\n",
              "      border-left-color: var(--fill-color);\n",
              "      border-top-color: var(--fill-color);\n",
              "      border-right-color: var(--fill-color);\n",
              "    }\n",
              "    40% {\n",
              "      border-color: transparent;\n",
              "      border-right-color: var(--fill-color);\n",
              "      border-top-color: var(--fill-color);\n",
              "    }\n",
              "    60% {\n",
              "      border-color: transparent;\n",
              "      border-right-color: var(--fill-color);\n",
              "    }\n",
              "    80% {\n",
              "      border-color: transparent;\n",
              "      border-right-color: var(--fill-color);\n",
              "      border-bottom-color: var(--fill-color);\n",
              "    }\n",
              "    90% {\n",
              "      border-color: transparent;\n",
              "      border-bottom-color: var(--fill-color);\n",
              "    }\n",
              "  }\n",
              "</style>\n",
              "\n",
              "  <script>\n",
              "    async function quickchart(key) {\n",
              "      const quickchartButtonEl =\n",
              "        document.querySelector('#' + key + ' button');\n",
              "      quickchartButtonEl.disabled = true;  // To prevent multiple clicks.\n",
              "      quickchartButtonEl.classList.add('colab-df-spinner');\n",
              "      try {\n",
              "        const charts = await google.colab.kernel.invokeFunction(\n",
              "            'suggestCharts', [key], {});\n",
              "      } catch (error) {\n",
              "        console.error('Error during call to suggestCharts:', error);\n",
              "      }\n",
              "      quickchartButtonEl.classList.remove('colab-df-spinner');\n",
              "      quickchartButtonEl.classList.add('colab-df-quickchart-complete');\n",
              "    }\n",
              "    (() => {\n",
              "      let quickchartButtonEl =\n",
              "        document.querySelector('#df-c5f0a45c-bf56-4944-bba0-a4840ac45082 button');\n",
              "      quickchartButtonEl.style.display =\n",
              "        google.colab.kernel.accessAllowed ? 'block' : 'none';\n",
              "    })();\n",
              "  </script>\n",
              "</div>\n",
              "    </div>\n",
              "  </div>\n"
            ]
          },
          "metadata": {},
          "execution_count": 16
        }
      ]
    },
    {
      "cell_type": "code",
      "source": [
        "# Get pixel data only\n",
        "alphabet_data = dataset_az.drop('0', axis=1) # alphabet_data menyimpan data dataset_az dengan menghapus kolom 0\n",
        "# Get labels only\n",
        "alphabet_labels = dataset_az['0'] # Menyimpan data kolom 0 dataset_az"
      ],
      "metadata": {
        "id": "dK6pP0b-o81T"
      },
      "execution_count": 17,
      "outputs": []
    },
    {
      "cell_type": "code",
      "source": [
        "# Check shape data\n",
        "alphabet_data.shape, alphabet_labels.shape # Menampilkan ukuran dan dimensi data alphabet_data dan alphabet_labels"
      ],
      "metadata": {
        "id": "NllEoaiLpZhI",
        "outputId": "fa1dd4d5-53eb-4094-b3de-54c3a0c1c568",
        "colab": {
          "base_uri": "https://localhost:8080/"
        }
      },
      "execution_count": 18,
      "outputs": [
        {
          "output_type": "execute_result",
          "data": {
            "text/plain": [
              "((372450, 784), (372450,))"
            ]
          },
          "metadata": {},
          "execution_count": 18
        }
      ]
    },
    {
      "cell_type": "code",
      "source": [
        "# Check shape labels\n",
        "alphabet_labels.shape # Menampilkan ukuran dan dimensi data alphabet_labels"
      ],
      "metadata": {
        "id": "UvE88zSkpe5e",
        "outputId": "a5ea54b1-82f4-48d1-a945-dec42131f26c",
        "colab": {
          "base_uri": "https://localhost:8080/"
        }
      },
      "execution_count": 19,
      "outputs": [
        {
          "output_type": "execute_result",
          "data": {
            "text/plain": [
              "(372450,)"
            ]
          },
          "metadata": {},
          "execution_count": 19
        }
      ]
    },
    {
      "cell_type": "code",
      "source": [
        "# Reshape pixel data to 28*28\n",
        "alphabet_data = np.reshape(alphabet_data.values, (alphabet_data.shape[0], 28, 28)) # Mengubah dimensi data yang sebelumnnya 1 dimensi menjadi 2 dimensi dengan ukuran 28 x 28\n",
        "# Check the result by its shape\n",
        "alphabet_data.shape # Menampilkan ukuran dan dimensi data alphabet_data"
      ],
      "metadata": {
        "id": "9xps-5kjpio_",
        "outputId": "0a38a614-232c-4323-a52f-27d5c3131a3a",
        "colab": {
          "base_uri": "https://localhost:8080/"
        }
      },
      "execution_count": 20,
      "outputs": [
        {
          "output_type": "execute_result",
          "data": {
            "text/plain": [
              "(372450, 28, 28)"
            ]
          },
          "metadata": {},
          "execution_count": 20
        }
      ]
    },
    {
      "cell_type": "code",
      "source": [
        "# Randomly checking A-Z dataset\n",
        "index = np.random.randint(0, alphabet_data.shape[0])  # Menentukan angka indeks acak berdasarkan panjang digits_data\n",
        "plt.imshow(alphabet_data[index], cmap = 'gray') # Menampilkan data dengan citra abu abu\n",
        "plt.title('Class: ' + str(alphabet_labels[index])) # Menambahkan judul pada plot"
      ],
      "metadata": {
        "id": "tDTBbWSoqloX",
        "outputId": "f05cc81b-02c2-469d-b104-d229ef0e8b53",
        "colab": {
          "base_uri": "https://localhost:8080/",
          "height": 469
        }
      },
      "execution_count": 21,
      "outputs": [
        {
          "output_type": "execute_result",
          "data": {
            "text/plain": [
              "Text(0.5, 1.0, 'Class: 20.0')"
            ]
          },
          "metadata": {},
          "execution_count": 21
        },
        {
          "output_type": "display_data",
          "data": {
            "text/plain": [
              "<Figure size 640x480 with 1 Axes>"
            ],
            "image/png": "[encoded data removed]"
          },
          "metadata": {}
        }
      ]
    },
    {
      "cell_type": "code",
      "source": [
        "# Check data distribution\n",
        "df_az_labels = pd.DataFrame({\n",
        "    'Labels': alphabet_labels.values\n",
        "}) # Mengambil data labels dari alphabet\n",
        "sns.countplot(df_az_labels, x='Labels') # Menampilkan visualisasi data dengan x berupa labels dan y total atau count setiap label nya"
      ],
      "metadata": {
        "id": "72frSp_uqrjm",
        "outputId": "08c4c88f-0785-4ee9-ce19-55c68334dd7a",
        "colab": {
          "base_uri": "https://localhost:8080/",
          "height": 468
        }
      },
      "execution_count": 22,
      "outputs": [
        {
          "output_type": "execute_result",
          "data": {
            "text/plain": [
              "<Axes: xlabel='Labels', ylabel='count'>"
            ]
          },
          "metadata": {},
          "execution_count": 22
        },
        {
          "output_type": "display_data",
          "data": {
            "text/plain": [
              "<Figure size 640x480 with 1 Axes>"
            ],
            "image/png": "[encoded data removed]"
          },
          "metadata": {}
        }
      ]
    },
    {
      "cell_type": "markdown",
      "source": [
        "## Combine Dataset (MNIST + Kaggel A-Z)"
      ],
      "metadata": {
        "id": "YZf14K79sdEC"
      }
    },
    {
      "cell_type": "code",
      "source": [
        "# Check unique value from digits_labels\n",
        "np.unique(digits_labels) # Menampilkan data unik dari digits_labels"
      ],
      "metadata": {
        "id": "9voZzZ8Krqk4",
        "outputId": "f0407aa4-e687-486d-8001-50ec0b09016e",
        "colab": {
          "base_uri": "https://localhost:8080/"
        }
      },
      "execution_count": 23,
      "outputs": [
        {
          "output_type": "execute_result",
          "data": {
            "text/plain": [
              "array([0, 1, 2, 3, 4, 5, 6, 7, 8, 9], dtype=uint8)"
            ]
          },
          "metadata": {},
          "execution_count": 23
        }
      ]
    },
    {
      "cell_type": "code",
      "source": [
        "# Check unique value from alphabet_labels\n",
        "np.unique(alphabet_labels) # Menampilkan data unik dari alphabet_labels"
      ],
      "metadata": {
        "id": "9ZzBJFKxs1AF",
        "outputId": "0b8495b1-0f6c-40c1-9a96-5f3acdddba95",
        "colab": {
          "base_uri": "https://localhost:8080/"
        }
      },
      "execution_count": 24,
      "outputs": [
        {
          "output_type": "execute_result",
          "data": {
            "text/plain": [
              "array([ 0.,  1.,  2.,  3.,  4.,  5.,  6.,  7.,  8.,  9., 10., 11., 12.,\n",
              "       13., 14., 15., 16., 17., 18., 19., 20., 21., 22., 23., 24., 25.],\n",
              "      dtype=float32)"
            ]
          },
          "metadata": {},
          "execution_count": 24
        }
      ]
    },
    {
      "cell_type": "code",
      "source": [
        "# We already know that digits labels containt labels from 0-9 (10 labels)\n",
        "# We also know that alphabet labels start from 0-25 which represent A-Z\n",
        "# If we want to combine them, the A-Z labels should continuing the digits label\n",
        "\n",
        "alphabet_labels += 10 # Menambahkan 10 ke setiap value"
      ],
      "metadata": {
        "id": "dM0GV8lIsnzf"
      },
      "execution_count": 25,
      "outputs": []
    },
    {
      "cell_type": "code",
      "source": [
        "# check alphabet labels again\n",
        "np.unique(alphabet_labels) # Menampilkan data unik dari alphabet_labels"
      ],
      "metadata": {
        "id": "42YKtJB-tQC6",
        "outputId": "cd687e32-e934-4232-f585-b79221a16440",
        "colab": {
          "base_uri": "https://localhost:8080/"
        }
      },
      "execution_count": 26,
      "outputs": [
        {
          "output_type": "execute_result",
          "data": {
            "text/plain": [
              "array([10., 11., 12., 13., 14., 15., 16., 17., 18., 19., 20., 21., 22.,\n",
              "       23., 24., 25., 26., 27., 28., 29., 30., 31., 32., 33., 34., 35.],\n",
              "      dtype=float32)"
            ]
          },
          "metadata": {},
          "execution_count": 26
        }
      ]
    },
    {
      "cell_type": "code",
      "source": [
        "# Combine both of them\n",
        "data = np.vstack([alphabet_data, digits_data]) # Menggabungkan data alphabet_data dan digits_data dalam array secara vertikal\n",
        "labels = np.hstack([alphabet_labels, digits_labels]) # Menggabungkan data alphabet_label dan digits_label dalam array secara horizontal"
      ],
      "metadata": {
        "id": "1ydXPXiItVVS"
      },
      "execution_count": 27,
      "outputs": []
    },
    {
      "cell_type": "code",
      "source": [
        "# Check the shape\n",
        "data.shape, labels.shape # Menampilkan ukuran dan dimensi data dan labels"
      ],
      "metadata": {
        "id": "-vYLoXFjuLz7",
        "outputId": "63cc53d7-4433-402b-f255-f887f50188d5",
        "colab": {
          "base_uri": "https://localhost:8080/"
        }
      },
      "execution_count": 28,
      "outputs": [
        {
          "output_type": "execute_result",
          "data": {
            "text/plain": [
              "((442450, 28, 28), (442450,))"
            ]
          },
          "metadata": {},
          "execution_count": 28
        }
      ]
    },
    {
      "cell_type": "code",
      "source": [
        "# Check labels\n",
        "np.unique(labels) # Menampilkan data unik dari labels"
      ],
      "metadata": {
        "id": "biyM6WueuRG6",
        "outputId": "5bea8ccf-5b95-4562-b675-758d9455c57b",
        "colab": {
          "base_uri": "https://localhost:8080/"
        }
      },
      "execution_count": 29,
      "outputs": [
        {
          "output_type": "execute_result",
          "data": {
            "text/plain": [
              "array([ 0.,  1.,  2.,  3.,  4.,  5.,  6.,  7.,  8.,  9., 10., 11., 12.,\n",
              "       13., 14., 15., 16., 17., 18., 19., 20., 21., 22., 23., 24., 25.,\n",
              "       26., 27., 28., 29., 30., 31., 32., 33., 34., 35.], dtype=float32)"
            ]
          },
          "metadata": {},
          "execution_count": 29
        }
      ]
    },
    {
      "cell_type": "code",
      "source": [
        "# Convert data to float32\n",
        "data = np.array(data, dtype = 'float32') # Mengubah tipe data menjadi float32"
      ],
      "metadata": {
        "id": "vuEt24lhuVfy"
      },
      "execution_count": 30,
      "outputs": []
    },
    {
      "cell_type": "code",
      "source": [
        "# Since Convolutional need 3d data (including depth)\n",
        "# and our images only in 2d data (because in grayscale format)\n",
        "# we need to add \"the depth\" to the data\n",
        "data = np.expand_dims(data, axis=-1) # Menambah dimensi baru ke array numpy\n",
        "\n",
        "# check shape\n",
        "data.shape # Menampilkan ukuran dan dimensi data"
      ],
      "metadata": {
        "id": "UC6Vhz59ucdR",
        "outputId": "1542198c-b1e3-4f08-ffe0-142168d2a135",
        "colab": {
          "base_uri": "https://localhost:8080/"
        }
      },
      "execution_count": 31,
      "outputs": [
        {
          "output_type": "execute_result",
          "data": {
            "text/plain": [
              "(442450, 28, 28, 1)"
            ]
          },
          "metadata": {},
          "execution_count": 31
        }
      ]
    },
    {
      "cell_type": "markdown",
      "source": [
        "# Preprocessing"
      ],
      "metadata": {
        "id": "xF71lXtSu3YE"
      }
    },
    {
      "cell_type": "code",
      "source": [
        "# Normalize data\n",
        "data /= 255.0 # Nomalisasi data untuk menghasilkan nilai dari 0 sampai 1 dengan membagi value dengan 255"
      ],
      "metadata": {
        "id": "kFjjP_JLuzbm"
      },
      "execution_count": 32,
      "outputs": []
    },
    {
      "cell_type": "code",
      "source": [
        "# Check range value of data\n",
        "data[0].min(), data[0].max() # Menampilkan rentang nilai dari min dan max"
      ],
      "metadata": {
        "id": "zztStKZOu-Dy",
        "outputId": "a189d0e6-2881-423d-93fc-69a5a955c193",
        "colab": {
          "base_uri": "https://localhost:8080/"
        }
      },
      "execution_count": 33,
      "outputs": [
        {
          "output_type": "execute_result",
          "data": {
            "text/plain": [
              "(0.0, 1.0)"
            ]
          },
          "metadata": {},
          "execution_count": 33
        }
      ]
    },
    {
      "cell_type": "code",
      "source": [
        "# Enconde the labels\n",
        "# LabelBinarizer similar with OneHotEncoder\n",
        "le = LabelBinarizer() # Membuat objek LabelBinarizer\n",
        "labels = le.fit_transform(labels) # Encoding data menjadi data numerik"
      ],
      "metadata": {
        "id": "s2C5yKEGu7vt"
      },
      "execution_count": 34,
      "outputs": []
    },
    {
      "cell_type": "code",
      "source": [
        "# Check labels shape\n",
        "labels.shape # Menampikan ukuran dan dimensi labels"
      ],
      "metadata": {
        "id": "Bo1M5YEmvg5x",
        "outputId": "aa64bd7a-8ac9-4d86-afc3-3a3c1cac9758",
        "colab": {
          "base_uri": "https://localhost:8080/"
        }
      },
      "execution_count": 35,
      "outputs": [
        {
          "output_type": "execute_result",
          "data": {
            "text/plain": [
              "(442450, 36)"
            ]
          },
          "metadata": {},
          "execution_count": 35
        }
      ]
    },
    {
      "cell_type": "code",
      "source": [
        "# Check data with label binarizer's label\n",
        "plt.imshow(data[30000].reshape(28,28), cmap='gray') # Menampilkan data indeks 30000 dengan citra gray dan ukuran 28 x 28\n",
        "plt.title(str(labels[0])) # Menambah judul di plot"
      ],
      "metadata": {
        "id": "jCL5ipbsvjpw",
        "outputId": "d89154dd-6ec0-4d34-e492-446987bda671",
        "colab": {
          "base_uri": "https://localhost:8080/",
          "height": 469
        }
      },
      "execution_count": 36,
      "outputs": [
        {
          "output_type": "execute_result",
          "data": {
            "text/plain": [
              "Text(0.5, 1.0, '[0 0 0 0 0 0 0 0 0 0 1 0 0 0 0 0 0 0 0 0 0 0 0 0 0 0 0 0 0 0 0 0 0 0 0 0]')"
            ]
          },
          "metadata": {},
          "execution_count": 36
        },
        {
          "output_type": "display_data",
          "data": {
            "text/plain": [
              "<Figure size 640x480 with 1 Axes>"
            ],
            "image/png": "[encoded data removed]"
          },
          "metadata": {}
        }
      ]
    },
    {
      "cell_type": "code",
      "source": [
        "# Since our data is not balance, we will handle it by giving weight for 'small' data\n",
        "\n",
        "# Check number of data for each labels first\n",
        "classes_total = labels.sum(axis = 0) # Menghitung jumlah kemunculan setiap label\n",
        "classes_total # Menampilkan data classes total"
      ],
      "metadata": {
        "id": "njDbZXKzvsx2",
        "outputId": "a3e77ec0-dd5f-4577-ad9c-7c955115cd1e",
        "colab": {
          "base_uri": "https://localhost:8080/"
        }
      },
      "execution_count": 37,
      "outputs": [
        {
          "output_type": "execute_result",
          "data": {
            "text/plain": [
              "array([ 6903,  7877,  6990,  7141,  6824,  6313,  6876,  7293,  6825,\n",
              "        6958, 13869,  8668, 23409, 10134, 11440,  1163,  5762,  7218,\n",
              "        1120,  8493,  5603, 11586, 12336, 19010, 57825, 19341,  5812,\n",
              "       11566, 48419, 22495, 29008,  4182, 10784,  6272, 10859,  6076])"
            ]
          },
          "metadata": {},
          "execution_count": 37
        }
      ]
    },
    {
      "cell_type": "code",
      "source": [
        "# Check the biggest value of data\n",
        "classes_total.max() # Menampilkan value terbesar dari classes_total"
      ],
      "metadata": {
        "id": "R1hHYtGLv_ZO",
        "outputId": "39731561-3385-4e13-a8a3-c2e75d595bd2",
        "colab": {
          "base_uri": "https://localhost:8080/"
        }
      },
      "execution_count": 38,
      "outputs": [
        {
          "output_type": "execute_result",
          "data": {
            "text/plain": [
              "57825"
            ]
          },
          "metadata": {},
          "execution_count": 38
        }
      ]
    },
    {
      "cell_type": "code",
      "source": [
        "# Create a weight for each data\n",
        "classes_weights = {} # Membuat inisialisasi variabel dictionary\n",
        "for i in range(0, len(classes_total)): # Membuat iterasi dimulai dari 0 sampai value sebelum panjang variabel classes_total\n",
        "  #print(i)\n",
        "  classes_weights[i] = classes_total.max() / classes_total[i] # Menambahkan valu hasil pembagian kedalam classes_weight key i\n",
        "\n",
        "# Check the weight for each data\n",
        "classes_weights # Menampilkan data classes_weights"
      ],
      "metadata": {
        "id": "7TJFrxS2wFTO",
        "outputId": "91bbbdf0-6f95-4752-8270-02da629703cc",
        "colab": {
          "base_uri": "https://localhost:8080/"
        }
      },
      "execution_count": 39,
      "outputs": [
        {
          "output_type": "execute_result",
          "data": {
            "text/plain": [
              "{0: 8.376792698826597,\n",
              " 1: 7.340992763742541,\n",
              " 2: 8.272532188841202,\n",
              " 3: 8.097605377398123,\n",
              " 4: 8.473769050410317,\n",
              " 5: 9.15967052114684,\n",
              " 6: 8.409685863874346,\n",
              " 7: 7.928835870012341,\n",
              " 8: 8.472527472527473,\n",
              " 9: 8.310577752227651,\n",
              " 10: 4.169370538611291,\n",
              " 11: 6.671089063221043,\n",
              " 12: 2.4702037677816224,\n",
              " 13: 5.7060390763765545,\n",
              " 14: 5.0546328671328675,\n",
              " 15: 49.72055030094583,\n",
              " 16: 10.035577924331829,\n",
              " 17: 8.011221945137157,\n",
              " 18: 51.629464285714285,\n",
              " 19: 6.808548216178029,\n",
              " 20: 10.320364090665715,\n",
              " 21: 4.990937338166753,\n",
              " 22: 4.6875,\n",
              " 23: 3.0418200946870066,\n",
              " 24: 1.0,\n",
              " 25: 2.989762680316426,\n",
              " 26: 9.94924294562973,\n",
              " 27: 4.999567698426422,\n",
              " 28: 1.1942625828703608,\n",
              " 29: 2.5705712380529007,\n",
              " 30: 1.993415609487038,\n",
              " 31: 13.827116212338593,\n",
              " 32: 5.362110534124629,\n",
              " 33: 9.21954719387755,\n",
              " 34: 5.3250759738465785,\n",
              " 35: 9.51695194206715}"
            ]
          },
          "metadata": {},
          "execution_count": 39
        }
      ]
    },
    {
      "cell_type": "markdown",
      "source": [
        "# Split Data to Train and Test"
      ],
      "metadata": {
        "id": "VtDS1O6JwSQ5"
      }
    },
    {
      "cell_type": "code",
      "source": [
        "X_train, X_test, y_train, y_test = train_test_split(data, labels, test_size = 0.2, random_state = 1, stratify = labels) # Membagi dataset dengan rasio data training 80% dan test 20%"
      ],
      "metadata": {
        "id": "rV62GJySwM2z"
      },
      "execution_count": 40,
      "outputs": []
    },
    {
      "cell_type": "markdown",
      "source": [
        "## Create Data Augmentation"
      ],
      "metadata": {
        "id": "q7Hs5GwGxw4E"
      }
    },
    {
      "cell_type": "code",
      "source": [
        "# Import library\n",
        "from keras.preprocessing.image import ImageDataGenerator # melakukan augmentasi data gambar secara real-time"
      ],
      "metadata": {
        "id": "Xn1jiVn9x2Gx"
      },
      "execution_count": 41,
      "outputs": []
    },
    {
      "cell_type": "code",
      "source": [
        "augmentation = ImageDataGenerator(rotation_range = 10, zoom_range=0.05, width_shift_range=0.1,\n",
        "                                  height_shift_range=0.1, horizontal_flip = False) # membuat augmentasi yang dapat mengenali gambar sambil melakukan rotasi, zoom, pergeseran horizontal, dan vertikal tetapi menonaktifkan flip horizontal"
      ],
      "metadata": {
        "id": "su41P3box6Zm"
      },
      "execution_count": 42,
      "outputs": []
    },
    {
      "cell_type": "markdown",
      "source": [
        "# Build CNN Model"
      ],
      "metadata": {
        "id": "GYwIT1TZw8SM"
      }
    },
    {
      "cell_type": "code",
      "source": [
        "# Import library\n",
        "from keras.models import Sequential # membuat model multilayer\n",
        "from keras.layers import Conv2D, MaxPool2D, Flatten, Dense # Mengimport berbagai macam layer yang akan digunakan dalam Model CNN\n",
        "from keras.callbacks import ModelCheckpoint # menyimpan model secara berkala"
      ],
      "metadata": {
        "id": "nvQ2Ly4zwX8z"
      },
      "execution_count": 43,
      "outputs": []
    },
    {
      "cell_type": "code",
      "source": [
        "# Build the network\n",
        "network = Sequential() # Membuat objek sequential\n",
        "\n",
        "network.add(Conv2D(filters = 32, kernel_size=(3,3), activation='relu', input_shape=(28,28,1))) # menggabungkan layer Conv2D ke dalam model jaringan dengan 32 filter dan kernel untuk konvolusi 3x3. ReLU adalah fungsi aktivasi (x > 0? x : 0) dan ukuran input adalah 28 x 28 x 1.\n",
        "network.add(MaxPool2D(pool_size=(2,2))) # Menambah layer polling dengan ukuran 2 x 2 dengan mengambil nilai max dari hasil konvolusi.\n",
        "\n",
        "network.add(Conv2D(filters = 64, kernel_size=(3,3), activation='relu', padding='same')) # Menambah layer Conv2D kedalam model network dengan 64 filter dan kernel untuk konvolusi berukuran 3 x 3. ReLU digunakan sebagai fungsi aktivasi (x > 0 ? x : 0) dan menambahkan padding disekitar input dengna value 0 agar menghasilkan ukuran yang sama dengan citra yang dikonvolusi\n",
        "network.add(MaxPool2D(pool_size=(2,2))) # Menambah layer polling dengan ukuran 2 x 2 dengan mengambil nilai max dari hasil konvolusi.\n",
        "\n",
        "network.add(Conv2D(filters = 128, kernel_size=(3,3), activation='relu', padding='valid'))  # menambah layer Conv2D ke model network dengan 64 filter dan kernel untuk konvolusi 3 x 3. ReLU digunakan sebagai fungsi aktivasi (x > 0? x : 0) dan tidak menambahkan padding di sekitar input untuk membuat gambar yang dikonvolusi lebih kecil.\n",
        "network.add(MaxPool2D(pool_size=(2,2))) # Menambah layer polling dengan ukuran 2 x 2 dengan mengambil nilai max dari hasil konvolusi.\n",
        "\n",
        "network.add(Flatten()) # Menambah layer Flatten ke model yang merubah input fultidimensi menjadi 1 dimensi\n",
        "\n",
        "network.add(Dense(64, activation = 'relu')) # Menambah hidden layer dengan 64 neuron dan fungsi aktivasi ReLU\n",
        "network.add(Dense(128, activation = 'relu')) # Menambah hidden layer dengan 128 neuron dan fungsi aktivasi ReLU\n",
        "\n",
        "network.add(Dense(36, activation='softmax')) # Menambah outpu layer dengan 36 neuron dan fungsi aktivasi softmax(hasil max dari kalkulasi value dengan niali e(euler))\n",
        "\n",
        "network.compile(loss = 'categorical_crossentropy', optimizer = 'adam', metrics = ['accuracy']) # Melakukan compile model (untuk perbaikan prediksi dan penentuan bobot) dengan fungsi kerugian berupa categorical_crossentropy, dengan optimizer adam dan matrics yang didasarkan dengan accuracy\n"
      ],
      "metadata": {
        "id": "icRreUChxAwF"
      },
      "execution_count": 44,
      "outputs": []
    },
    {
      "cell_type": "code",
      "source": [
        "# Check network summary\n",
        "network.summary() # Menampilkan rincian model"
      ],
      "metadata": {
        "id": "nAuCYbRWxIKl",
        "outputId": "7f21e6ea-fb29-4cf0-c8e0-1a603bbd4a6d",
        "colab": {
          "base_uri": "https://localhost:8080/"
        }
      },
      "execution_count": 45,
      "outputs": [
        {
          "output_type": "stream",
          "name": "stdout",
          "text": [
            "Model: \"sequential\"\n",
            "_________________________________________________________________\n",
            " Layer (type)                Output Shape              Param #   \n",
            "=================================================================\n",
            " conv2d (Conv2D)             (None, 26, 26, 32)        320       \n",
            "                                                                 \n",
            " max_pooling2d (MaxPooling2D  (None, 13, 13, 32)       0         \n",
            " )                                                               \n",
            "                                                                 \n",
            " conv2d_1 (Conv2D)           (None, 13, 13, 64)        18496     \n",
            "                                                                 \n",
            " max_pooling2d_1 (MaxPooling  (None, 6, 6, 64)         0         \n",
            " 2D)                                                             \n",
            "                                                                 \n",
            " conv2d_2 (Conv2D)           (None, 4, 4, 128)         73856     \n",
            "                                                                 \n",
            " max_pooling2d_2 (MaxPooling  (None, 2, 2, 128)        0         \n",
            " 2D)                                                             \n",
            "                                                                 \n",
            " flatten (Flatten)           (None, 512)               0         \n",
            "                                                                 \n",
            " dense (Dense)               (None, 64)                32832     \n",
            "                                                                 \n",
            " dense_1 (Dense)             (None, 128)               8320      \n",
            "                                                                 \n",
            " dense_2 (Dense)             (None, 36)                4644      \n",
            "                                                                 \n",
            "=================================================================\n",
            "Total params: 138,468\n",
            "Trainable params: 138,468\n",
            "Non-trainable params: 0\n",
            "_________________________________________________________________\n"
          ]
        }
      ]
    },
    {
      "cell_type": "code",
      "source": [
        "# Create actual labels\n",
        "name_labels = '0123456789' # Inisialisasi name_labels\n",
        "name_labels += 'ABCDEFGHIJKLMNOPQRSTUVWXYZ' # Menambah data name_labels\n",
        "name_labels = [l for l in name_labels] # Mensplit data menjadi data list\n",
        "\n",
        "# Check actual label\n",
        "print(name_labels) # Menampilkan list data name_labels"
      ],
      "metadata": {
        "id": "o7Vc4ly2xMhk",
        "outputId": "64b44d14-68c3-4118-d77f-7eb8aa03c849",
        "colab": {
          "base_uri": "https://localhost:8080/"
        }
      },
      "execution_count": 46,
      "outputs": [
        {
          "output_type": "stream",
          "name": "stdout",
          "text": [
            "['0', '1', '2', '3', '4', '5', '6', '7', '8', '9', 'A', 'B', 'C', 'D', 'E', 'F', 'G', 'H', 'I', 'J', 'K', 'L', 'M', 'N', 'O', 'P', 'Q', 'R', 'S', 'T', 'U', 'V', 'W', 'X', 'Y', 'Z']\n"
          ]
        }
      ]
    },
    {
      "cell_type": "markdown",
      "source": [
        "## Train model"
      ],
      "metadata": {
        "id": "DH7hSW38xX6e"
      }
    },
    {
      "cell_type": "code",
      "source": [
        "# Set model name, epoch, and batch size\n",
        "file_model = 'custom_ocr.model' # Inisialisasi variabel file_model, yang akan digunakan untuk menentukan nama model OCR yang akan disimpan.\n",
        "epochs = 20 # Inisialisasi variabel epochs\n",
        "batch_size = 128 # Inisialisasi variabel batch_size, sebagai jumlah sampel untuk memperbarui bobot"
      ],
      "metadata": {
        "id": "rNQ_-PY7xVRD"
      },
      "execution_count": 47,
      "outputs": []
    },
    {
      "cell_type": "code",
      "source": [
        "# Setup checkpoint\n",
        "checkpointer = ModelCheckpoint(file_model, monitor = 'val_loss', verbose = 1, save_best_only=True) # Membuat checkpoint untuk menyimpan model ketika val_loss (loss validation) menurun selama pelatihan. Variabel ini akan digunakan sebagai callback, dan saat model disimpan, mereka akan mencetak epoch, loss, dan metrik yang dipantau."
      ],
      "metadata": {
        "id": "F8Orj5UQxdtr"
      },
      "execution_count": 48,
      "outputs": []
    },
    {
      "cell_type": "code",
      "source": [
        "# Fit the model\n",
        "history = network.fit(augmentation.flow(X_train, y_train, batch_size=batch_size), # Melatih model network dengan input berupa hasil augmentasi data train dan batch size serta menyimpannya dalam variabel history\n",
        "                      validation_data = (X_test, y_test), # Mengukur kinerja berdasarkan validation data dari data test\n",
        "                      steps_per_epoch = len(X_train) // batch_size, epochs=epochs, # menentukan berapa kali generator dipanggil dan training sebanyak epochs\n",
        "                      class_weight = classes_weights, verbose=1, callbacks=[checkpointer]) # Menentukan bobot berbeda berdasarkan classes_weight, mencetak ringkasan training setelah setiap epoch dengan menggunakan checkpointer sebagai argumen callbacks"
      ],
      "metadata": {
        "id": "enFAwiaxxkgx",
        "outputId": "32407af4-c598-4773-fcbb-e98e224a3ea2",
        "colab": {
          "base_uri": "https://localhost:8080/"
        }
      },
      "execution_count": 49,
      "outputs": [
        {
          "metadata": {
            "tags": null
          },
          "name": "stdout",
          "output_type": "stream",
          "text": [
            "Epoch 1/20\n",
            "2765/2765 [==============================] - ETA: 0s - loss: 2.2078 - accuracy: 0.8239\n",
            "Epoch 1: val_loss improved from inf to 0.31777, saving model to custom_ocr.model\n"
          ]
        },
        {
          "metadata": {
            "tags": null
          },
          "name": "stderr",
          "output_type": "stream",
          "text": [
            "WARNING:absl:Found untraced functions such as _jit_compiled_convolution_op, _jit_compiled_convolution_op, _jit_compiled_convolution_op, _update_step_xla while saving (showing 4 of 4). These functions will not be directly callable after loading.\n"
          ]
        },
        {
          "metadata": {
            "tags": null
          },
          "name": "stdout",
          "output_type": "stream",
          "text": [
            "2765/2765 [==============================] - 644s 232ms/step - loss: 2.2078 - accuracy: 0.8239 - val_loss: 0.3178 - val_accuracy: 0.8836\n",
            "Epoch 2/20\n",
            "2765/2765 [==============================] - ETA: 0s - loss: 0.9895 - accuracy: 0.9001\n",
            "Epoch 2: val_loss improved from 0.31777 to 0.22684, saving model to custom_ocr.model\n"
          ]
        },
        {
          "metadata": {
            "tags": null
          },
          "name": "stderr",
          "output_type": "stream",
          "text": [
            "WARNING:absl:Found untraced functions such as _jit_compiled_convolution_op, _jit_compiled_convolution_op, _jit_compiled_convolution_op, _update_step_xla while saving (showing 4 of 4). These functions will not be directly callable after loading.\n"
          ]
        },
        {
          "metadata": {
            "tags": null
          },
          "name": "stdout",
          "output_type": "stream",
          "text": [
            "2765/2765 [==============================] - 632s 229ms/step - loss: 0.9895 - accuracy: 0.9001 - val_loss: 0.2268 - val_accuracy: 0.9152\n",
            "Epoch 3/20\n",
            "2765/2765 [==============================] - ETA: 0s - loss: 0.8191 - accuracy: 0.9134\n",
            "Epoch 3: val_loss did not improve from 0.22684\n",
            "2765/2765 [==============================] - 619s 224ms/step - loss: 0.8191 - accuracy: 0.9134 - val_loss: 0.2594 - val_accuracy: 0.8888\n",
            "Epoch 4/20\n",
            "2765/2765 [==============================] - ETA: 0s - loss: 0.7310 - accuracy: 0.9205\n",
            "Epoch 4: val_loss did not improve from 0.22684\n",
            "2765/2765 [==============================] - 612s 221ms/step - loss: 0.7310 - accuracy: 0.9205 - val_loss: 0.3055 - val_accuracy: 0.8852\n",
            "Epoch 5/20\n",
            "2765/2765 [==============================] - ETA: 0s - loss: 0.6608 - accuracy: 0.9263\n",
            "Epoch 5: val_loss did not improve from 0.22684\n",
            "2765/2765 [==============================] - 611s 221ms/step - loss: 0.6608 - accuracy: 0.9263 - val_loss: 0.2349 - val_accuracy: 0.8994\n",
            "Epoch 6/20\n",
            "2765/2765 [==============================] - ETA: 0s - loss: 0.6181 - accuracy: 0.9303\n",
            "Epoch 6: val_loss improved from 0.22684 to 0.19040, saving model to custom_ocr.model\n"
          ]
        },
        {
          "metadata": {
            "tags": null
          },
          "name": "stderr",
          "output_type": "stream",
          "text": [
            "WARNING:absl:Found untraced functions such as _jit_compiled_convolution_op, _jit_compiled_convolution_op, _jit_compiled_convolution_op, _update_step_xla while saving (showing 4 of 4). These functions will not be directly callable after loading.\n"
          ]
        },
        {
          "output_type": "stream",
          "name": "stdout",
          "text": [
            "2765/2765 [==============================] - 609s 220ms/step - loss: 0.6181 - accuracy: 0.9303 - val_loss: 0.1904 - val_accuracy: 0.9261\n",
            "Epoch 7/20\n",
            "2765/2765 [==============================] - ETA: 0s - loss: 0.5824 - accuracy: 0.9338\n",
            "Epoch 7: val_loss did not improve from 0.19040\n",
            "2765/2765 [==============================] - 607s 219ms/step - loss: 0.5824 - accuracy: 0.9338 - val_loss: 0.3229 - val_accuracy: 0.8641\n",
            "Epoch 8/20\n",
            "2765/2765 [==============================] - ETA: 0s - loss: 0.5529 - accuracy: 0.9350\n",
            "Epoch 8: val_loss did not improve from 0.19040\n",
            "2765/2765 [==============================] - 611s 221ms/step - loss: 0.5529 - accuracy: 0.9350 - val_loss: 0.2567 - val_accuracy: 0.8961\n",
            "Epoch 9/20\n",
            "2765/2765 [==============================] - ETA: 0s - loss: 0.5284 - accuracy: 0.9381\n",
            "Epoch 9: val_loss did not improve from 0.19040\n",
            "2765/2765 [==============================] - 590s 213ms/step - loss: 0.5284 - accuracy: 0.9381 - val_loss: 0.3694 - val_accuracy: 0.8523\n",
            "Epoch 10/20\n",
            "2765/2765 [==============================] - ETA: 0s - loss: 0.5088 - accuracy: 0.9385\n",
            "Epoch 10: val_loss did not improve from 0.19040\n",
            "2765/2765 [==============================] - 578s 209ms/step - loss: 0.5088 - accuracy: 0.9385 - val_loss: 0.2031 - val_accuracy: 0.9144\n",
            "Epoch 11/20\n",
            "2765/2765 [==============================] - ETA: 0s - loss: 0.4929 - accuracy: 0.9397\n",
            "Epoch 11: val_loss did not improve from 0.19040\n",
            "2765/2765 [==============================] - 590s 214ms/step - loss: 0.4929 - accuracy: 0.9397 - val_loss: 0.2973 - val_accuracy: 0.8726\n",
            "Epoch 12/20\n",
            "2765/2765 [==============================] - ETA: 0s - loss: 0.4735 - accuracy: 0.9409\n",
            "Epoch 12: val_loss did not improve from 0.19040\n",
            "2765/2765 [==============================] - 582s 211ms/step - loss: 0.4735 - accuracy: 0.9409 - val_loss: 0.2483 - val_accuracy: 0.8921\n",
            "Epoch 13/20\n",
            "2765/2765 [==============================] - ETA: 0s - loss: 0.4609 - accuracy: 0.9431\n",
            "Epoch 13: val_loss did not improve from 0.19040\n",
            "2765/2765 [==============================] - 581s 210ms/step - loss: 0.4609 - accuracy: 0.9431 - val_loss: 0.2436 - val_accuracy: 0.8949\n",
            "Epoch 14/20\n",
            "2765/2765 [==============================] - ETA: 0s - loss: 0.4616 - accuracy: 0.9435\n",
            "Epoch 14: val_loss improved from 0.19040 to 0.17983, saving model to custom_ocr.model\n"
          ]
        },
        {
          "output_type": "stream",
          "name": "stderr",
          "text": [
            "WARNING:absl:Found untraced functions such as _jit_compiled_convolution_op, _jit_compiled_convolution_op, _jit_compiled_convolution_op, _update_step_xla while saving (showing 4 of 4). These functions will not be directly callable after loading.\n"
          ]
        },
        {
          "output_type": "stream",
          "name": "stdout",
          "text": [
            "\b\b\b\b\b\b\b\b\b\b\b\b\b\b\b\b\b\b\b\b\b\b\b\b\b\b\b\b\b\b\b\b\b\b\b\b\b\b\b\b\b\b\b\b\b\b\b\b\b\b\b\b\b\b\b\b\b\b\b\b\b\b\b\b\b\b\b\b\b\b\b\b\b\b\b\b\b\b\b\b\b\b\b\b\b\b\r2765/2765 [==============================] - 585s 212ms/step - loss: 0.4616 - accuracy: 0.9435 - val_loss: 0.1798 - val_accuracy: 0.9245\n",
            "Epoch 15/20\n",
            "2765/2765 [==============================] - ETA: 0s - loss: 0.4427 - accuracy: 0.9453\n",
            "Epoch 15: val_loss did not improve from 0.17983\n",
            "2765/2765 [==============================] - 583s 211ms/step - loss: 0.4427 - accuracy: 0.9453 - val_loss: 0.2003 - val_accuracy: 0.9166\n",
            "Epoch 16/20\n",
            "2765/2765 [==============================] - ETA: 0s - loss: 0.4391 - accuracy: 0.9461\n",
            "Epoch 16: val_loss did not improve from 0.17983\n",
            "2765/2765 [==============================] - 577s 209ms/step - loss: 0.4391 - accuracy: 0.9461 - val_loss: 0.2003 - val_accuracy: 0.9152\n",
            "Epoch 17/20\n",
            "2765/2765 [==============================] - ETA: 0s - loss: 0.4269 - accuracy: 0.9470\n",
            "Epoch 17: val_loss improved from 0.17983 to 0.17362, saving model to custom_ocr.model\n"
          ]
        },
        {
          "output_type": "stream",
          "name": "stderr",
          "text": [
            "WARNING:absl:Found untraced functions such as _jit_compiled_convolution_op, _jit_compiled_convolution_op, _jit_compiled_convolution_op, _update_step_xla while saving (showing 4 of 4). These functions will not be directly callable after loading.\n"
          ]
        },
        {
          "output_type": "stream",
          "name": "stdout",
          "text": [
            "\b\b\b\b\b\b\b\b\b\b\b\b\b\b\b\b\b\b\b\b\b\b\b\b\b\b\b\b\b\b\b\b\b\b\b\b\b\b\b\b\b\b\b\b\b\b\b\b\b\b\b\b\b\b\b\b\b\b\b\b\b\b\b\b\b\b\b\b\b\b\b\b\b\b\b\b\b\b\b\b\b\b\b\b\b\b\r2765/2765 [==============================] - 584s 211ms/step - loss: 0.4269 - accuracy: 0.9470 - val_loss: 0.1736 - val_accuracy: 0.9328\n",
            "Epoch 18/20\n",
            "2765/2765 [==============================] - ETA: 0s - loss: 0.4188 - accuracy: 0.9482\n",
            "Epoch 18: val_loss improved from 0.17362 to 0.13168, saving model to custom_ocr.model\n"
          ]
        },
        {
          "output_type": "stream",
          "name": "stderr",
          "text": [
            "WARNING:absl:Found untraced functions such as _jit_compiled_convolution_op, _jit_compiled_convolution_op, _jit_compiled_convolution_op, _update_step_xla while saving (showing 4 of 4). These functions will not be directly callable after loading.\n"
          ]
        },
        {
          "output_type": "stream",
          "name": "stdout",
          "text": [
            "\b\b\b\b\b\b\b\b\b\b\b\b\b\b\b\b\b\b\b\b\b\b\b\b\b\b\b\b\b\b\b\b\b\b\b\b\b\b\b\b\b\b\b\b\b\b\b\b\b\b\b\b\b\b\b\b\b\b\b\b\b\b\b\b\b\b\b\b\b\b\b\b\b\b\b\b\b\b\b\b\b\b\b\b\b\b\r2765/2765 [==============================] - 586s 212ms/step - loss: 0.4188 - accuracy: 0.9482 - val_loss: 0.1317 - val_accuracy: 0.9597\n",
            "Epoch 19/20\n",
            "2765/2765 [==============================] - ETA: 0s - loss: 0.4110 - accuracy: 0.9488\n",
            "Epoch 19: val_loss did not improve from 0.13168\n",
            "2765/2765 [==============================] - 579s 209ms/step - loss: 0.4110 - accuracy: 0.9488 - val_loss: 0.1790 - val_accuracy: 0.9276\n",
            "Epoch 20/20\n",
            "2765/2765 [==============================] - ETA: 0s - loss: 0.4130 - accuracy: 0.9493\n",
            "Epoch 20: val_loss did not improve from 0.13168\n",
            "2765/2765 [==============================] - 583s 211ms/step - loss: 0.4130 - accuracy: 0.9493 - val_loss: 0.1518 - val_accuracy: 0.9459\n"
          ]
        }
      ]
    },
    {
      "cell_type": "markdown",
      "source": [
        "# Evaluate Model"
      ],
      "metadata": {
        "id": "bM4mGoWL6jxk"
      }
    },
    {
      "cell_type": "markdown",
      "source": [
        "## Make a Single Prediction"
      ],
      "metadata": {
        "id": "ig0TiV6N7V29"
      }
    },
    {
      "cell_type": "markdown",
      "source": [],
      "metadata": {
        "id": "5pbMkmvg7V0i"
      }
    },
    {
      "cell_type": "code",
      "source": [
        "# make a prediction\n",
        "predictions = network.predict(X_test, batch_size=batch_size) # Melakukan prediksi dengan menggunakan atribut X_test dan argument batch_size sebesar 128"
      ],
      "metadata": {
        "id": "WDJUSW-l6lEl",
        "outputId": "24f0457d-3a97-4a1f-b9ab-be5ab8e5e7fb",
        "colab": {
          "base_uri": "https://localhost:8080/"
        }
      },
      "execution_count": 50,
      "outputs": [
        {
          "output_type": "stream",
          "name": "stdout",
          "text": [
            "692/692 [==============================] - 31s 45ms/step\n"
          ]
        }
      ]
    },
    {
      "cell_type": "code",
      "source": [
        "# Check prediction for data-0\n",
        "# You will get the probability for each label\n",
        "# The highest one is the prediction\n",
        "predictions[1] # Menampilkan hasil prediksi variabel predictions indeks ke-1"
      ],
      "metadata": {
        "id": "tQ5Ta4b96pEt",
        "outputId": "e37c43e0-1e95-4432-cc42-648ee95f7b6b",
        "colab": {
          "base_uri": "https://localhost:8080/"
        }
      },
      "execution_count": 51,
      "outputs": [
        {
          "output_type": "execute_result",
          "data": {
            "text/plain": [
              "array([5.0481716e-30, 5.4593797e-13, 7.4111470e-18, 4.8374586e-22,\n",
              "       7.6607594e-20, 2.2832470e-17, 3.9016588e-20, 4.2422507e-17,\n",
              "       6.0949464e-24, 6.8695495e-20, 2.1877620e-22, 2.5649331e-23,\n",
              "       1.1457928e-15, 1.7716066e-17, 9.7476280e-21, 1.4146776e-21,\n",
              "       9.5986799e-18, 8.2833148e-21, 9.9999994e-01, 7.5023154e-10,\n",
              "       3.6563233e-17, 7.2843088e-13, 7.1554258e-18, 8.4638762e-22,\n",
              "       1.2940447e-18, 8.9180830e-20, 9.0856411e-23, 1.2914734e-21,\n",
              "       2.6934557e-16, 9.7119199e-14, 8.9035726e-19, 1.1176276e-18,\n",
              "       1.5255353e-20, 2.2939778e-16, 1.3946465e-16, 5.3724131e-13],\n",
              "      dtype=float32)"
            ]
          },
          "metadata": {},
          "execution_count": 51
        }
      ]
    },
    {
      "cell_type": "code",
      "source": [
        "# Get the actual prediction -> highest probability\n",
        "np.argmax(predictions[1]) # Memperoleh indeks dengan value tertinggi"
      ],
      "metadata": {
        "id": "9THTrYAH64g8",
        "outputId": "a071878a-d30f-45d0-e1df-553ec1336679",
        "colab": {
          "base_uri": "https://localhost:8080/"
        }
      },
      "execution_count": 52,
      "outputs": [
        {
          "output_type": "execute_result",
          "data": {
            "text/plain": [
              "18"
            ]
          },
          "metadata": {},
          "execution_count": 52
        }
      ]
    },
    {
      "cell_type": "code",
      "source": [
        "# Check label for 24\n",
        "name_labels[18] # Mengecek label yang berada di indeks ke-18"
      ],
      "metadata": {
        "id": "pG6n2eTI6-Ly",
        "outputId": "9438c6ec-1a7f-4426-d1d7-b8b338335c24",
        "colab": {
          "base_uri": "https://localhost:8080/",
          "height": 35
        }
      },
      "execution_count": 53,
      "outputs": [
        {
          "output_type": "execute_result",
          "data": {
            "text/plain": [
              "'I'"
            ],
            "application/vnd.google.colaboratory.intrinsic+json": {
              "type": "string"
            }
          },
          "metadata": {},
          "execution_count": 53
        }
      ]
    },
    {
      "cell_type": "code",
      "source": [
        "# Check y_test label for 0\n",
        "y_test[1] # Menampilkan hasil atau nilai aktual dari y_test ke-1"
      ],
      "metadata": {
        "id": "chDSvyYq7Bxq",
        "outputId": "ccfcaa25-657b-4eff-9422-71f3a4d07ea9",
        "colab": {
          "base_uri": "https://localhost:8080/"
        }
      },
      "execution_count": 54,
      "outputs": [
        {
          "output_type": "execute_result",
          "data": {
            "text/plain": [
              "array([0, 0, 0, 0, 0, 0, 0, 0, 0, 0, 0, 0, 0, 0, 0, 0, 0, 0, 1, 0, 0, 0,\n",
              "       0, 0, 0, 0, 0, 0, 0, 0, 0, 0, 0, 0, 0, 0])"
            ]
          },
          "metadata": {},
          "execution_count": 54
        }
      ]
    },
    {
      "cell_type": "code",
      "source": [
        "# check the highest value\n",
        "np.argmax(y_test[1]) # Memperoleh indeks dengan value tertinggi"
      ],
      "metadata": {
        "id": "BpoE99Us7KpZ",
        "outputId": "9de73b58-dbcc-471c-975d-cf1c426f76fe",
        "colab": {
          "base_uri": "https://localhost:8080/"
        }
      },
      "execution_count": 55,
      "outputs": [
        {
          "data": {
            "text/plain": [
              "18"
            ]
          },
          "execution_count": 55,
          "metadata": {},
          "output_type": "execute_result"
        }
      ]
    },
    {
      "cell_type": "code",
      "source": [
        "# Check the label of y_test 0\n",
        "name_labels[np.argmax(y_test[18])] # Menampilkan hasil atau nilai aktual dari indeks hasil value tertinggi y_test indeks ke-18"
      ],
      "metadata": {
        "id": "KjJRX1lC7Ppw",
        "outputId": "aec65466-2b97-44f8-d6fa-18227c35c7e6",
        "colab": {
          "base_uri": "https://localhost:8080/",
          "height": 35
        }
      },
      "execution_count": 56,
      "outputs": [
        {
          "data": {
            "application/vnd.google.colaboratory.intrinsic+json": {
              "type": "string"
            },
            "text/plain": [
              "'S'"
            ]
          },
          "execution_count": 56,
          "metadata": {},
          "output_type": "execute_result"
        }
      ]
    },
    {
      "cell_type": "markdown",
      "source": [
        "## Make an Evaluation on Test Data"
      ],
      "metadata": {
        "id": "_xFS3-cs7a0x"
      }
    },
    {
      "cell_type": "code",
      "source": [
        "# Evaluate on test data\n",
        "network.evaluate(X_test, y_test) # Menampilkan hasil evaluasi model"
      ],
      "metadata": {
        "id": "t-rko8WP7TYA",
        "outputId": "1df84e4b-d7f3-43ed-f8c3-e546d6878429",
        "colab": {
          "base_uri": "https://localhost:8080/"
        }
      },
      "execution_count": 57,
      "outputs": [
        {
          "output_type": "stream",
          "name": "stdout",
          "text": [
            "2766/2766 [==============================] - 42s 15ms/step - loss: 0.1518 - accuracy: 0.9459\n"
          ]
        },
        {
          "output_type": "execute_result",
          "data": {
            "text/plain": [
              "[0.15182599425315857, 0.9459487199783325]"
            ]
          },
          "metadata": {},
          "execution_count": 57
        }
      ]
    },
    {
      "cell_type": "code",
      "source": [
        "# Print Classification Report\n",
        "print(classification_report(y_test.argmax(axis=1), predictions.argmax(axis=1), target_names = name_labels)) # Mengevaluasi model untuk klasifikasi data berdasarkan nilai aktuan dan prediksi serta target_names berupa name_labels"
      ],
      "metadata": {
        "id": "VkQtgoCq7gx2",
        "outputId": "402ed07b-9342-403f-c8c5-53e113b93f46",
        "colab": {
          "base_uri": "https://localhost:8080/"
        }
      },
      "execution_count": 58,
      "outputs": [
        {
          "output_type": "stream",
          "name": "stdout",
          "text": [
            "              precision    recall  f1-score   support\n",
            "\n",
            "           0       0.33      0.78      0.46      1381\n",
            "           1       0.95      1.00      0.97      1575\n",
            "           2       0.93      0.96      0.94      1398\n",
            "           3       0.97      1.00      0.98      1428\n",
            "           4       0.85      0.97      0.91      1365\n",
            "           5       0.80      0.91      0.85      1263\n",
            "           6       0.96      0.98      0.97      1375\n",
            "           7       0.96      0.99      0.98      1459\n",
            "           8       0.98      0.98      0.98      1365\n",
            "           9       0.98      0.98      0.98      1392\n",
            "           A       0.99      0.99      0.99      2774\n",
            "           B       0.99      0.99      0.99      1734\n",
            "           C       0.99      0.98      0.99      4682\n",
            "           D       0.81      0.98      0.89      2027\n",
            "           E       0.99      0.99      0.99      2288\n",
            "           F       0.92      1.00      0.96       233\n",
            "           G       0.95      0.96      0.95      1152\n",
            "           H       0.98      0.95      0.97      1444\n",
            "           I       0.94      0.98      0.96       224\n",
            "           J       0.95      0.96      0.96      1698\n",
            "           K       0.97      0.99      0.98      1121\n",
            "           L       0.98      0.97      0.98      2317\n",
            "           M       0.99      0.99      0.99      2467\n",
            "           N       0.99      0.99      0.99      3802\n",
            "           O       0.97      0.78      0.86     11565\n",
            "           P       0.99      0.99      0.99      3868\n",
            "           Q       0.98      0.98      0.98      1162\n",
            "           R       0.99      0.99      0.99      2313\n",
            "           S       0.99      0.96      0.98      9684\n",
            "           T       1.00      0.98      0.99      4499\n",
            "           U       0.99      0.95      0.97      5801\n",
            "           V       0.86      1.00      0.92       836\n",
            "           W       0.98      0.99      0.99      2157\n",
            "           X       0.99      0.99      0.99      1254\n",
            "           Y       0.98      0.94      0.96      2172\n",
            "           Z       0.95      0.94      0.95      1215\n",
            "\n",
            "    accuracy                           0.95     88490\n",
            "   macro avg       0.94      0.97      0.95     88490\n",
            "weighted avg       0.96      0.95      0.95     88490\n",
            "\n"
          ]
        }
      ]
    },
    {
      "cell_type": "code",
      "source": [
        "# Visualize loss value for each epoch\n",
        "plt.plot(history.history['val_loss']) # Memvisualisasikan data history val_loss"
      ],
      "metadata": {
        "id": "mIETfqMu7nv1",
        "outputId": "9b7b5d7e-a146-4f5e-d922-5860ae5bd3da",
        "colab": {
          "base_uri": "https://localhost:8080/",
          "height": 447
        }
      },
      "execution_count": 59,
      "outputs": [
        {
          "output_type": "execute_result",
          "data": {
            "text/plain": [
              "[<matplotlib.lines.Line2D at 0x7fc64a85fee0>]"
            ]
          },
          "metadata": {},
          "execution_count": 59
        },
        {
          "output_type": "display_data",
          "data": {
            "text/plain": [
              "<Figure size 640x480 with 1 Axes>"
            ],
            "image/png": "[encoded data removed]"
          },
          "metadata": {}
        }
      ]
    },
    {
      "cell_type": "code",
      "source": [
        "# You can also check the another metrics\n",
        "history.history.keys() # Menampilkan key yang dimiliki oleh history.history"
      ],
      "metadata": {
        "id": "mNUP1QP17vas",
        "outputId": "b5e7d6c4-8c42-45ed-cafa-133d78ebfe57",
        "colab": {
          "base_uri": "https://localhost:8080/"
        }
      },
      "execution_count": 60,
      "outputs": [
        {
          "output_type": "execute_result",
          "data": {
            "text/plain": [
              "dict_keys(['loss', 'accuracy', 'val_loss', 'val_accuracy'])"
            ]
          },
          "metadata": {},
          "execution_count": 60
        }
      ]
    },
    {
      "cell_type": "code",
      "source": [
        "# Check the model performance by validation accuracy\n",
        "plt.plot(history.history['val_accuracy'])  # Memvisualisasikan data history val_accuracy"
      ],
      "metadata": {
        "id": "VwEZzjEa716s",
        "outputId": "b983415b-a128-4ff7-faed-9c9d70d73971",
        "colab": {
          "base_uri": "https://localhost:8080/",
          "height": 447
        }
      },
      "execution_count": 61,
      "outputs": [
        {
          "output_type": "execute_result",
          "data": {
            "text/plain": [
              "[<matplotlib.lines.Line2D at 0x7fc64aabc700>]"
            ]
          },
          "metadata": {},
          "execution_count": 61
        },
        {
          "output_type": "display_data",
          "data": {
            "text/plain": [
              "<Figure size 640x480 with 1 Axes>"
            ],
            "image/png": "[encoded data removed]"
          },
          "metadata": {}
        }
      ]
    },
    {
      "cell_type": "markdown",
      "source": [
        "# Save The Model"
      ],
      "metadata": {
        "id": "D0rviDyl79Bk"
      }
    },
    {
      "cell_type": "code",
      "source": [
        "# The result will show in colab directory\n",
        "network.save('network', save_format= 'h5') # Menyimpan model CNN dengan format h5"
      ],
      "metadata": {
        "id": "QZ4ftlmq76nC"
      },
      "execution_count": 62,
      "outputs": []
    },
    {
      "cell_type": "markdown",
      "source": [
        "# Testing on Real Image"
      ],
      "metadata": {
        "id": "A3EWZVrz0YDV"
      }
    },
    {
      "cell_type": "code",
      "source": [
        "# Import library\n",
        "from keras.models import load_model # digunakan untuk memuat model yang telah disimpan"
      ],
      "metadata": {
        "id": "1wUedJB-0Z_q"
      },
      "execution_count": 63,
      "outputs": []
    },
    {
      "cell_type": "code",
      "source": [
        "# Load saved network\n",
        "load_network = load_model('network') # Memuat model dengan nama atapun path network yang sudah disimpan sebelumnya dan disimpan dalam load_network"
      ],
      "metadata": {
        "id": "D6E24QOm0hiB"
      },
      "execution_count": 64,
      "outputs": []
    },
    {
      "cell_type": "code",
      "source": [
        "# Check summary\n",
        "load_network.summary() # Menampilkan rincian model"
      ],
      "metadata": {
        "id": "0cB7lmOc0nlR",
        "outputId": "a0504691-85a2-40c0-bde0-991c77c79d2f",
        "colab": {
          "base_uri": "https://localhost:8080/"
        }
      },
      "execution_count": 65,
      "outputs": [
        {
          "output_type": "stream",
          "name": "stdout",
          "text": [
            "Model: \"sequential\"\n",
            "_________________________________________________________________\n",
            " Layer (type)                Output Shape              Param #   \n",
            "=================================================================\n",
            " conv2d (Conv2D)             (None, 26, 26, 32)        320       \n",
            "                                                                 \n",
            " max_pooling2d (MaxPooling2D  (None, 13, 13, 32)       0         \n",
            " )                                                               \n",
            "                                                                 \n",
            " conv2d_1 (Conv2D)           (None, 13, 13, 64)        18496     \n",
            "                                                                 \n",
            " max_pooling2d_1 (MaxPooling  (None, 6, 6, 64)         0         \n",
            " 2D)                                                             \n",
            "                                                                 \n",
            " conv2d_2 (Conv2D)           (None, 4, 4, 128)         73856     \n",
            "                                                                 \n",
            " max_pooling2d_2 (MaxPooling  (None, 2, 2, 128)        0         \n",
            " 2D)                                                             \n",
            "                                                                 \n",
            " flatten (Flatten)           (None, 512)               0         \n",
            "                                                                 \n",
            " dense (Dense)               (None, 64)                32832     \n",
            "                                                                 \n",
            " dense_1 (Dense)             (None, 128)               8320      \n",
            "                                                                 \n",
            " dense_2 (Dense)             (None, 36)                4644      \n",
            "                                                                 \n",
            "=================================================================\n",
            "Total params: 138,468\n",
            "Trainable params: 138,468\n",
            "Non-trainable params: 0\n",
            "_________________________________________________________________\n"
          ]
        }
      ]
    },
    {
      "cell_type": "code",
      "source": [
        "# Load Image\n",
        "import cv2 # Library yang berguna dalam visi komputer\n",
        "from google.colab.patches import cv2_imshow # Fungsi yang digunakan citra dalam google colab\n",
        "\n",
        "from google.colab import drive # Membantu dalam memanfaatkan media penyimpanan Google Drive\n",
        "drive.mount('/content/drive') # Memuat Google Drive\n",
        "\n",
        "img = cv2.imread('/content/drive/MyDrive/dataset/images/b_small.jpg') # Mengimport dan menyimpan citra dari path kedalam variabel img\n",
        "cv2_imshow(img) # menampilkan citra yang sudah diimport di variabel img sebelumnya\n"
      ],
      "metadata": {
        "id": "hbnaTxZK07JW",
        "outputId": "43920722-bfdb-4a3b-d510-5b91b0b1005d",
        "colab": {
          "base_uri": "https://localhost:8080/",
          "height": 353
        }
      },
      "execution_count": 68,
      "outputs": [
        {
          "output_type": "stream",
          "name": "stdout",
          "text": [
            "Drive already mounted at /content/drive; to attempt to forcibly remount, call drive.mount(\"/content/drive\", force_remount=True).\n"
          ]
        },
        {
          "output_type": "display_data",
          "data": {
            "text/plain": [
              "<PIL.Image.Image image mode=RGB size=298x299>"
            ],
            "image/png": "[encoded data removed]"
          },
          "metadata": {}
        }
      ]
    },
    {
      "cell_type": "code",
      "source": [
        "# Check shape\n",
        "img.shape # Menampilkan ukuran dan dimensi data img"
      ],
      "metadata": {
        "id": "EfDOYN6D1OZ9",
        "outputId": "1b0c4f64-b741-4b43-eaeb-e7b30a298ca5",
        "colab": {
          "base_uri": "https://localhost:8080/"
        }
      },
      "execution_count": 69,
      "outputs": [
        {
          "output_type": "execute_result",
          "data": {
            "text/plain": [
              "(299, 298, 3)"
            ]
          },
          "metadata": {},
          "execution_count": 69
        }
      ]
    },
    {
      "cell_type": "code",
      "source": [
        "# Convert to gray\n",
        "gray_img = cv2.cvtColor(img, cv2.COLOR_BGR2GRAY) # Merubah citra dari BGR ke Grayscale\n",
        "\n",
        "# check shape\n",
        "gray_img.shape # Menampilkan ukuran dan dimensi data gray_img"
      ],
      "metadata": {
        "id": "7e6w1zaL1RW7",
        "outputId": "5f20aeef-c572-4fe2-fa18-6e2d2267ab42",
        "colab": {
          "base_uri": "https://localhost:8080/"
        }
      },
      "execution_count": 70,
      "outputs": [
        {
          "output_type": "execute_result",
          "data": {
            "text/plain": [
              "(299, 298)"
            ]
          },
          "metadata": {},
          "execution_count": 70
        }
      ]
    },
    {
      "cell_type": "code",
      "source": [
        "# Pre-process\n",
        "# Binary Threshold and Otsu\n",
        "value, thresh = cv2.threshold(gray_img, 0, 255, cv2.THRESH_BINARY + cv2.THRESH_OTSU) # Melakukan thresholding untuk menghasilkan citra biner\n",
        "\n",
        "cv2_imshow(thresh) # Menampilkan citra thresh\n",
        "\n",
        "# print threshold value\n",
        "print(value) # Menampilkan data value"
      ],
      "metadata": {
        "id": "9_al0IF01c3q",
        "outputId": "c720e606-f3db-4283-aa90-516af8218578",
        "colab": {
          "base_uri": "https://localhost:8080/",
          "height": 333
        }
      },
      "execution_count": 71,
      "outputs": [
        {
          "output_type": "display_data",
          "data": {
            "text/plain": [
              "<PIL.Image.Image image mode=L size=298x299>"
            ],
            "image/png": "[encoded data removed]"
          },
          "metadata": {}
        },
        {
          "output_type": "stream",
          "name": "stdout",
          "text": [
            "120.0\n"
          ]
        }
      ]
    },
    {
      "cell_type": "code",
      "source": [
        "# Resize image in order to match network input shape -> 28*28\n",
        "img_resize = cv2.resize(gray_img, (28,28)) # Merubah ukuran pixel citra menjadi 28 x 28\n",
        "cv2_imshow(img_resize) # Menampilkan citra img_resize"
      ],
      "metadata": {
        "id": "dmjHswqd1wB5",
        "outputId": "7c17768a-996d-42df-dc0d-f49d4edc97e1",
        "colab": {
          "base_uri": "https://localhost:8080/",
          "height": 45
        }
      },
      "execution_count": 72,
      "outputs": [
        {
          "output_type": "display_data",
          "data": {
            "text/plain": [
              "<PIL.Image.Image image mode=L size=28x28>"
            ],
            "image/png": "[encoded data removed]"
          },
          "metadata": {}
        }
      ]
    },
    {
      "cell_type": "code",
      "source": [
        "# Convert to float 32\n",
        "# and extend the dimension since network input shape is 28*28*1\n",
        "img_input = img_resize.astype('float32') / 255 # Merubah tipe data menjadi float32 dan normalisasi data untuk menghasilkan value antara 0 sampai 1\n",
        "img_input = np.expand_dims(img_input, axis=-1) # menambah dimensi array citra\n",
        "\n",
        "# check shape\n",
        "img_input.shape # Menampilkan ukuran dan dimensi data img_input"
      ],
      "metadata": {
        "id": "bZStKgUl2Kk_",
        "outputId": "b87bd3b7-e33e-4f96-dfe9-132a0380ca66",
        "colab": {
          "base_uri": "https://localhost:8080/"
        }
      },
      "execution_count": 73,
      "outputs": [
        {
          "output_type": "execute_result",
          "data": {
            "text/plain": [
              "(28, 28, 1)"
            ]
          },
          "metadata": {},
          "execution_count": 73
        }
      ]
    },
    {
      "cell_type": "code",
      "source": [
        "# Add \"amount of data\" as dimension\n",
        "img_input = np.reshape(img_input, (1,28,28,1)) # Merubah array img_input menjadi 1 batch_size dengan ukuran 28 x 28 dan 1 channel\n",
        "img_input.shape # Menampilkan ukuran dan dimensi data img_input"
      ],
      "metadata": {
        "id": "7Xs7JwKj2lxr",
        "outputId": "9065881a-5ed8-4d28-bced-4d93e4850052",
        "colab": {
          "base_uri": "https://localhost:8080/"
        }
      },
      "execution_count": 74,
      "outputs": [
        {
          "output_type": "execute_result",
          "data": {
            "text/plain": [
              "(1, 28, 28, 1)"
            ]
          },
          "metadata": {},
          "execution_count": 74
        }
      ]
    },
    {
      "cell_type": "code",
      "source": [
        "# Make a predition\n",
        "prediction = load_network.predict(img_input) # Melakukan prediksi berdasarkan citra img_input\n",
        "pred_label = np.argmax(prediction) # Mengambil indeks dengan nilai tertinggi\n",
        "pred_label # Menampilkan value pred_label"
      ],
      "metadata": {
        "id": "fZLWIWLs2yuX",
        "outputId": "fc8f903b-21f5-4ebe-a1f3-b88a1819146b",
        "colab": {
          "base_uri": "https://localhost:8080/"
        }
      },
      "execution_count": 75,
      "outputs": [
        {
          "output_type": "stream",
          "name": "stdout",
          "text": [
            "1/1 [==============================] - 0s 103ms/step\n"
          ]
        },
        {
          "output_type": "execute_result",
          "data": {
            "text/plain": [
              "6"
            ]
          },
          "metadata": {},
          "execution_count": 75
        }
      ]
    },
    {
      "cell_type": "code",
      "source": [
        "# check label for 6\n",
        "name_labels[6] # Menampilkan value name_labels indeks ke-6"
      ],
      "metadata": {
        "id": "72Pl04hq3WNz",
        "outputId": "f69c3554-2ddd-4680-c3ee-7ffb749e161f",
        "colab": {
          "base_uri": "https://localhost:8080/",
          "height": 35
        }
      },
      "execution_count": 76,
      "outputs": [
        {
          "output_type": "execute_result",
          "data": {
            "text/plain": [
              "'6'"
            ],
            "application/vnd.google.colaboratory.intrinsic+json": {
              "type": "string"
            }
          },
          "metadata": {},
          "execution_count": 76
        }
      ]
    },
    {
      "cell_type": "markdown",
      "source": [
        "**Analisa hasil**\n",
        "\n",
        "Meskipun tingkat akurasi yang tinggi yaitu mencapai 0.96. Namun dari \"b_small\" ini masih mirip denggan angka 6"
      ],
      "metadata": {
        "id": "CKnUSpUVdOyu"
      }
    }
  ]
}